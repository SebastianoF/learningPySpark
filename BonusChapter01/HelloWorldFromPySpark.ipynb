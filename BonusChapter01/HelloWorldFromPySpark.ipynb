{
 "cells": [
  {
   "cell_type": "markdown",
   "metadata": {},
   "source": [
    "\n",
    "## Installing and checking the system\n",
    "\n",
    "Install apache pyspark with `pip install pyspark` with a python 3.7 virtualenvironment."
   ]
  },
  {
   "cell_type": "code",
   "execution_count": 1,
   "metadata": {
    "collapsed": false
   },
   "outputs": [
    {
     "output_type": "execute_result",
     "data": {
      "text/plain": "<SparkContext master=local[*] appName=pyspark-shell>",
      "text/html": "\n        <div>\n            <p><b>SparkContext</b></p>\n\n            <p><a href=\"http://savoy-Precision-5520.broadband:4041\">Spark UI</a></p>\n\n            <dl>\n              <dt>Version</dt>\n                <dd><code>v2.4.5</code></dd>\n              <dt>Master</dt>\n                <dd><code>local[*]</code></dd>\n              <dt>AppName</dt>\n                <dd><code>pyspark-shell</code></dd>\n            </dl>\n        </div>\n        "
     },
     "metadata": {},
     "execution_count": 1
    }
   ],
   "source": [
    "import pyspark\n",
    "from pyspark.sql import SQLContext\n",
    "\n",
    "\n",
    "sc = pyspark.SparkContext('local[*]')\n",
    "\n",
    "sc"
   ]
  },
  {
   "cell_type": "code",
   "execution_count": 2,
   "metadata": {
    "collapsed": false
   },
   "outputs": [
    {
     "output_type": "execute_result",
     "data": {
      "text/plain": "pyspark.sql.context.SQLContext"
     },
     "metadata": {},
     "execution_count": 2
    }
   ],
   "source": [
    "SQLContext"
   ]
  },
  {
   "cell_type": "code",
   "execution_count": 3,
   "metadata": {
    "collapsed": false
   },
   "outputs": [
    {
     "output_type": "stream",
     "name": "stdout",
     "text": "2.4.5\n"
    }
   ],
   "source": [
    "print(sc.version)"
   ]
  },
  {
   "cell_type": "markdown",
   "metadata": {},
   "source": [
    "## First app example\n",
    "\n",
    "To run a first spark app, let's count the number of 'b' and 'm' characters in the README.md file. https://www.tutorialspoint.com/pyspark/pyspark_sparkcontext.htm"
   ]
  },
  {
   "cell_type": "code",
   "execution_count": 4,
   "metadata": {},
   "outputs": [],
   "source": [
    "sc.stop()  # can not have more than one SparkContext running at the same time\n",
    "sc = pyspark.SparkContext(\"local\", \"First App\")"
   ]
  },
  {
   "cell_type": "code",
   "execution_count": 5,
   "metadata": {},
   "outputs": [
    {
     "output_type": "stream",
     "name": "stdout",
     "text": "Lines with b: 13, lines with m: 14\n"
    }
   ],
   "source": [
    "readme_file_path = \"../README.md\"\n",
    "text_data = sc.textFile(readme_file_path).cache()\n",
    "num_bs = text_data.filter(lambda line: 'b' in line).count()\n",
    "num_ms = text_data.filter(lambda line: 'm' in line).count()\n",
    "print(f\"Lines with b: {num_bs}, lines with m: {num_ms}\")"
   ]
  },
  {
   "cell_type": "markdown",
   "metadata": {},
   "source": [
    "#### Troubleshooting\n",
    "\n",
    "Java version 8 must be installed and set as default. \n",
    "To install it:\n",
    "```bash\n",
    "sudo apt install openjdk-8-jdk\n",
    "```\n",
    "To select version 8 as default:\n",
    "```bash\n",
    "sudo update-alternatives --config java\n",
    "```"
   ]
  }
 ],
 "metadata": {
  "kernelspec": {
   "display_name": "Python 3.7.5 64-bit ('venv': virtualenv)",
   "language": "python",
   "name": "python37564bitvenvvirtualenv746bf185f140465ab8609cf377657fb8"
  },
  "language_info": {
   "codemirror_mode": {
    "name": "ipython",
    "version": 3
   },
   "file_extension": ".py",
   "mimetype": "text/x-python",
   "name": "python",
   "nbconvert_exporter": "python",
   "pygments_lexer": "ipython3",
   "version": "3.7.5-final"
  }
 },
 "nbformat": 4,
 "nbformat_minor": 0
}