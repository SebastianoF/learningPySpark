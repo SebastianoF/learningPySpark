{
 "cells": [
  {
   "cell_type": "markdown",
   "metadata": {},
   "source": [
    "# Learning PySpark\n",
    "\n",
    "## Chapter 4: Prepare and understand data for modeling\n",
    "\n",
    "This notebook contains sample code from Chapter 3 of Learning PySpark focusing on PySpark and DataFrames."
   ]
  },
  {
   "cell_type": "code",
   "execution_count": 1,
   "metadata": {},
   "outputs": [],
   "source": [
    "import pyspark\n",
    "\n",
    "\n",
    "sc = pyspark.SparkContext(\"local\", \"AppCh4\")\n",
    "sqlContext = pyspark.SQLContext(sc)"
   ]
  },
  {
   "cell_type": "markdown",
   "metadata": {},
   "source": [
    "### Duplicates\n",
    "\n",
    "Consider the following example."
   ]
  },
  {
   "cell_type": "code",
   "execution_count": 2,
   "metadata": {},
   "outputs": [
    {
     "name": "stdout",
     "output_type": "stream",
     "text": [
      "+---+------+------+---+------+\n",
      "| id|weight|height|age|gender|\n",
      "+---+------+------+---+------+\n",
      "|  1| 144.5|   5.9| 33|     M|\n",
      "|  2| 167.2|   5.4| 45|     M|\n",
      "|  3| 124.1|   5.2| 23|     F|\n",
      "|  4| 144.5|   5.9| 33|     M|\n",
      "|  5| 133.2|   5.7| 54|     F|\n",
      "|  3| 124.1|   5.2| 23|     F|\n",
      "|  5| 129.2|   5.3| 42|     M|\n",
      "+---+------+------+---+------+\n",
      "\n"
     ]
    }
   ],
   "source": [
    "df = sqlContext.createDataFrame(\n",
    "    [\n",
    "        (1, 144.5, 5.9, 33, 'M'),\n",
    "        (2, 167.2, 5.4, 45, 'M'),\n",
    "        (3, 124.1, 5.2, 23, 'F'),\n",
    "        (4, 144.5, 5.9, 33, 'M'),\n",
    "        (5, 133.2, 5.7, 54, 'F'),\n",
    "        (3, 124.1, 5.2, 23, 'F'),\n",
    "        (5, 129.2, 5.3, 42, 'M'),\n",
    "    ], \n",
    "    [\n",
    "        'id',\n",
    "        'weight',\n",
    "        'height',\n",
    "        'age',\n",
    "        'gender'\n",
    "    ]\n",
    ")\n",
    "\n",
    "df.show()"
   ]
  },
  {
   "cell_type": "markdown",
   "metadata": {},
   "source": [
    "Check for duplicates."
   ]
  },
  {
   "cell_type": "code",
   "execution_count": 3,
   "metadata": {},
   "outputs": [
    {
     "name": "stdout",
     "output_type": "stream",
     "text": [
      "Count of rows: 7\n",
      "Count of distinct rows: 6\n"
     ]
    }
   ],
   "source": [
    "print('Count of rows: {0}'.format(df.count()))\n",
    "print('Count of distinct rows: {0}'.format(df.distinct().count()))"
   ]
  },
  {
   "cell_type": "markdown",
   "metadata": {},
   "source": [
    "If these two numbers differ - you have rows that are exact copies of each other. We can drop these rows by using the `.dropDuplicates(...)` method."
   ]
  },
  {
   "cell_type": "code",
   "execution_count": 4,
   "metadata": {},
   "outputs": [
    {
     "name": "stdout",
     "output_type": "stream",
     "text": [
      "+---+------+------+---+------+\n",
      "| id|weight|height|age|gender|\n",
      "+---+------+------+---+------+\n",
      "|  5| 133.2|   5.7| 54|     F|\n",
      "|  5| 129.2|   5.3| 42|     M|\n",
      "|  1| 144.5|   5.9| 33|     M|\n",
      "|  4| 144.5|   5.9| 33|     M|\n",
      "|  2| 167.2|   5.4| 45|     M|\n",
      "|  3| 124.1|   5.2| 23|     F|\n",
      "+---+------+------+---+------+\n",
      "\n"
     ]
    }
   ],
   "source": [
    "df = df.dropDuplicates()\n",
    "df.show()"
   ]
  },
  {
   "cell_type": "markdown",
   "metadata": {},
   "source": [
    "Let's confirm."
   ]
  },
  {
   "cell_type": "code",
   "execution_count": 5,
   "metadata": {},
   "outputs": [
    {
     "name": "stdout",
     "output_type": "stream",
     "text": [
      "Count of rows: 6\n",
      "Count of distinct ids: 5\n"
     ]
    }
   ],
   "source": [
    "print('Count of rows: {0}'.format(df.count()))\n",
    "print('Count of distinct ids: {0}'.format(\n",
    "    df.select(\n",
    "            [c for c in df.columns if c != 'id']\n",
    "        ).distinct().count()\n",
    "    )\n",
    ")"
   ]
  },
  {
   "cell_type": "markdown",
   "metadata": {},
   "source": [
    "We still have one more duplicate. We will use the `.dropDuplicates(...)` but add the `subset` parameter."
   ]
  },
  {
   "cell_type": "code",
   "execution_count": 6,
   "metadata": {},
   "outputs": [
    {
     "name": "stdout",
     "output_type": "stream",
     "text": [
      "+---+------+------+---+------+\n",
      "| id|weight|height|age|gender|\n",
      "+---+------+------+---+------+\n",
      "|  5| 133.2|   5.7| 54|     F|\n",
      "|  1| 144.5|   5.9| 33|     M|\n",
      "|  2| 167.2|   5.4| 45|     M|\n",
      "|  3| 124.1|   5.2| 23|     F|\n",
      "|  5| 129.2|   5.3| 42|     M|\n",
      "+---+------+------+---+------+\n",
      "\n"
     ]
    }
   ],
   "source": [
    "df = df.dropDuplicates(\n",
    "    subset=[c for c in df.columns if c != 'id']\n",
    ")\n",
    "df.show()"
   ]
  },
  {
   "cell_type": "markdown",
   "metadata": {},
   "source": [
    "Sort the by the first column"
   ]
  },
  {
   "cell_type": "code",
   "execution_count": 7,
   "metadata": {},
   "outputs": [
    {
     "name": "stdout",
     "output_type": "stream",
     "text": [
      "+---+------+------+---+------+\n",
      "| id|weight|height|age|gender|\n",
      "+---+------+------+---+------+\n",
      "|  1| 144.5|   5.9| 33|     M|\n",
      "|  2| 167.2|   5.4| 45|     M|\n",
      "|  3| 124.1|   5.2| 23|     F|\n",
      "|  5| 133.2|   5.7| 54|     F|\n",
      "|  5| 129.2|   5.3| 42|     M|\n",
      "+---+------+------+---+------+\n",
      "\n"
     ]
    }
   ],
   "source": [
    "df = df.sort('id')\n",
    "df.show()"
   ]
  },
  {
   "cell_type": "markdown",
   "metadata": {},
   "source": [
    "To calculate the total and distinct number of IDs in one step we can use the `.agg(...)` method."
   ]
  },
  {
   "cell_type": "code",
   "execution_count": 8,
   "metadata": {},
   "outputs": [
    {
     "name": "stdout",
     "output_type": "stream",
     "text": [
      "+-----+--------+\n",
      "|count|distinct|\n",
      "+-----+--------+\n",
      "|    5|       4|\n",
      "+-----+--------+\n",
      "\n"
     ]
    }
   ],
   "source": [
    "import pyspark.sql.functions as fn\n",
    "\n",
    "df.agg(\n",
    "    fn.count('id').alias('count'),\n",
    "    fn.countDistinct('id').alias('distinct')\n",
    ").show()"
   ]
  },
  {
   "cell_type": "markdown",
   "metadata": {},
   "source": [
    "Give each row a unique ID. "
   ]
  },
  {
   "cell_type": "code",
   "execution_count": 9,
   "metadata": {},
   "outputs": [
    {
     "name": "stdout",
     "output_type": "stream",
     "text": [
      "+---+------+------+---+------+-----------+\n",
      "| id|weight|height|age|gender|     new_id|\n",
      "+---+------+------+---+------+-----------+\n",
      "|  1| 144.5|   5.9| 33|     M|          0|\n",
      "|  2| 167.2|   5.4| 45|     M| 8589934592|\n",
      "|  3| 124.1|   5.2| 23|     F|17179869184|\n",
      "|  5| 133.2|   5.7| 54|     F|25769803776|\n",
      "|  5| 129.2|   5.3| 42|     M|25769803777|\n",
      "+---+------+------+---+------+-----------+\n",
      "\n"
     ]
    }
   ],
   "source": [
    "df.withColumn('new_id', fn.monotonically_increasing_id()).show()"
   ]
  },
  {
   "cell_type": "markdown",
   "metadata": {},
   "source": [
    "### Missing observations\n",
    "\n",
    "Consider a similar example to the one we presented above."
   ]
  },
  {
   "cell_type": "code",
   "execution_count": 10,
   "metadata": {},
   "outputs": [],
   "source": [
    "df_miss = sqlContext.createDataFrame(\n",
    "    [\n",
    "        (1, 143.5, 5.6, 28,   'M',  100000),\n",
    "        (2, 167.2, 5.4, 45,   'M',  None),\n",
    "        (3, None , 5.2, None, None, None),\n",
    "        (4, 144.5, 5.9, 33,   'M',  None),\n",
    "        (5, 133.2, 5.7, 54,   'F',  None),\n",
    "        (6, 124.1, 5.2, None, 'F',  None),\n",
    "        (7, 129.2, 5.3, 42,   'M',  76000),\n",
    "    ], \n",
    "    [\n",
    "        'id', \n",
    "        'weight', \n",
    "        'height', \n",
    "        'age', \n",
    "        'gender', \n",
    "        'income'\n",
    "    ]\n",
    ")"
   ]
  },
  {
   "cell_type": "markdown",
   "metadata": {},
   "source": [
    "To find the number of missing observations per row we can use the following snippet."
   ]
  },
  {
   "cell_type": "code",
   "execution_count": 11,
   "metadata": {},
   "outputs": [
    {
     "data": {
      "text/plain": [
       "[(1, 0), (2, 1), (3, 4), (4, 1), (5, 1), (6, 2), (7, 0)]"
      ]
     },
     "execution_count": 11,
     "metadata": {},
     "output_type": "execute_result"
    }
   ],
   "source": [
    "df_miss.rdd.map(\n",
    "    lambda row: (row['id'], sum([c == None for c in row]))\n",
    ").collect()"
   ]
  },
  {
   "cell_type": "markdown",
   "metadata": {},
   "source": [
    "Let's see what values are missing so when we count missing observations in columns we can decide whether to drop the observation altogether or impute some of the observations."
   ]
  },
  {
   "cell_type": "code",
   "execution_count": 12,
   "metadata": {},
   "outputs": [
    {
     "name": "stdout",
     "output_type": "stream",
     "text": [
      "+---+------+------+----+------+------+\n",
      "| id|weight|height| age|gender|income|\n",
      "+---+------+------+----+------+------+\n",
      "|  3|  null|   5.2|null|  null|  null|\n",
      "+---+------+------+----+------+------+\n",
      "\n"
     ]
    }
   ],
   "source": [
    "df_miss.where('id == 3').show()"
   ]
  },
  {
   "cell_type": "markdown",
   "metadata": {},
   "source": [
    "What is the percentage of missing observations we see in each column?"
   ]
  },
  {
   "cell_type": "code",
   "execution_count": 13,
   "metadata": {},
   "outputs": [
    {
     "name": "stdout",
     "output_type": "stream",
     "text": [
      "+----------+------------------+--------------+------------------+------------------+------------------+\n",
      "|id_missing|    weight_missing|height_missing|       age_missing|    gender_missing|    income_missing|\n",
      "+----------+------------------+--------------+------------------+------------------+------------------+\n",
      "|       0.0|0.1428571428571429|           0.0|0.2857142857142857|0.1428571428571429|0.7142857142857143|\n",
      "+----------+------------------+--------------+------------------+------------------+------------------+\n",
      "\n"
     ]
    }
   ],
   "source": [
    "df_miss.agg(*[\n",
    "    (1 - (fn.count(c) / fn.count('*'))).alias(c + '_missing')\n",
    "    for c in df_miss.columns\n",
    "]).show()"
   ]
  },
  {
   "cell_type": "markdown",
   "metadata": {},
   "source": [
    "We will drop the `'income'` feature as most of its values are missing."
   ]
  },
  {
   "cell_type": "code",
   "execution_count": 14,
   "metadata": {},
   "outputs": [
    {
     "name": "stdout",
     "output_type": "stream",
     "text": [
      "+---+------+------+----+------+\n",
      "| id|weight|height| age|gender|\n",
      "+---+------+------+----+------+\n",
      "|  1| 143.5|   5.6|  28|     M|\n",
      "|  2| 167.2|   5.4|  45|     M|\n",
      "|  3|  null|   5.2|null|  null|\n",
      "|  4| 144.5|   5.9|  33|     M|\n",
      "|  5| 133.2|   5.7|  54|     F|\n",
      "|  6| 124.1|   5.2|null|     F|\n",
      "|  7| 129.2|   5.3|  42|     M|\n",
      "+---+------+------+----+------+\n",
      "\n"
     ]
    }
   ],
   "source": [
    "df_miss_no_income = df_miss.select([c for c in df_miss.columns if c != 'income'])\n",
    "df_miss_no_income.show()"
   ]
  },
  {
   "cell_type": "markdown",
   "metadata": {},
   "source": [
    "To drop the observations instead you can use the `.dropna(...)` method."
   ]
  },
  {
   "cell_type": "code",
   "execution_count": 15,
   "metadata": {},
   "outputs": [
    {
     "name": "stdout",
     "output_type": "stream",
     "text": [
      "+---+------+------+----+------+\n",
      "| id|weight|height| age|gender|\n",
      "+---+------+------+----+------+\n",
      "|  1| 143.5|   5.6|  28|     M|\n",
      "|  2| 167.2|   5.4|  45|     M|\n",
      "|  4| 144.5|   5.9|  33|     M|\n",
      "|  5| 133.2|   5.7|  54|     F|\n",
      "|  6| 124.1|   5.2|null|     F|\n",
      "|  7| 129.2|   5.3|  42|     M|\n",
      "+---+------+------+----+------+\n",
      "\n"
     ]
    }
   ],
   "source": [
    "df_miss_no_income.dropna(thresh=3).show()"
   ]
  },
  {
   "cell_type": "markdown",
   "metadata": {},
   "source": [
    "To impute a mean, median or other *calculated* value you need to first calculate the value, create a dict with such values, and then pass it to the `.fillna(...)` method."
   ]
  },
  {
   "cell_type": "code",
   "execution_count": 16,
   "metadata": {},
   "outputs": [
    {
     "name": "stdout",
     "output_type": "stream",
     "text": [
      "+---+------------------+------+---+-------+\n",
      "| id|            weight|height|age| gender|\n",
      "+---+------------------+------+---+-------+\n",
      "|  1|             143.5|   5.6| 28|      M|\n",
      "|  2|             167.2|   5.4| 45|      M|\n",
      "|  3|140.28333333333333|   5.2| 40|missing|\n",
      "|  4|             144.5|   5.9| 33|      M|\n",
      "|  5|             133.2|   5.7| 54|      F|\n",
      "|  6|             124.1|   5.2| 40|      F|\n",
      "|  7|             129.2|   5.3| 42|      M|\n",
      "+---+------------------+------+---+-------+\n",
      "\n"
     ]
    }
   ],
   "source": [
    "means = df_miss_no_income.agg(\n",
    "    *[fn.mean(c).alias(c) for c in df_miss_no_income.columns if c != 'gender']\n",
    ").toPandas().to_dict('records')[0]\n",
    "\n",
    "means['gender'] = 'missing'\n",
    "\n",
    "df_miss_no_income.fillna(means).show()"
   ]
  },
  {
   "cell_type": "markdown",
   "metadata": {},
   "source": [
    "### Outliers\n",
    "\n",
    "Consider another simple example."
   ]
  },
  {
   "cell_type": "code",
   "execution_count": 17,
   "metadata": {},
   "outputs": [],
   "source": [
    "df_outliers = sqlContext.createDataFrame(\n",
    "    [\n",
    "        (1, 143.5, 5.3, 28),\n",
    "        (2, 154.2, 5.5, 45),\n",
    "        (3, 342.3, 5.1, 99),\n",
    "        (4, 144.5, 5.5, 33),\n",
    "        (5, 133.2, 5.4, 54),\n",
    "        (6, 124.1, 5.1, 21),\n",
    "        (7, 129.2, 5.3, 42),\n",
    "    ], [\n",
    "        'id', \n",
    "        'weight', \n",
    "        'height',\n",
    "        'age'\n",
    "    ]\n",
    ")"
   ]
  },
  {
   "cell_type": "markdown",
   "metadata": {},
   "source": [
    "First, we calculate the lower and upper *cut off* points for each feature."
   ]
  },
  {
   "cell_type": "code",
   "execution_count": 18,
   "metadata": {},
   "outputs": [],
   "source": [
    "cols = ['weight', 'height', 'age']\n",
    "bounds = {}\n",
    "\n",
    "for col in cols:\n",
    "    quantiles = df_outliers.approxQuantile(col, [0.25, 0.75], 0.05)\n",
    "    IQR = quantiles[1] - quantiles[0]\n",
    "    bounds[col] = [quantiles[0] - 1.5 * IQR, quantiles[1] + 1.5 * IQR]"
   ]
  },
  {
   "cell_type": "markdown",
   "metadata": {},
   "source": [
    "The `bounds` dictionary holds the lower and upper bounds for each feature. "
   ]
  },
  {
   "cell_type": "code",
   "execution_count": 19,
   "metadata": {},
   "outputs": [
    {
     "data": {
      "text/plain": [
       "{'weight': [91.69999999999999, 191.7],\n",
       " 'height': [4.499999999999999, 6.1000000000000005],\n",
       " 'age': [-11.0, 93.0]}"
      ]
     },
     "execution_count": 19,
     "metadata": {},
     "output_type": "execute_result"
    }
   ],
   "source": [
    "bounds"
   ]
  },
  {
   "cell_type": "markdown",
   "metadata": {},
   "source": [
    "Let's now use it to flag our outliers."
   ]
  },
  {
   "cell_type": "code",
   "execution_count": 20,
   "metadata": {},
   "outputs": [
    {
     "name": "stdout",
     "output_type": "stream",
     "text": [
      "+---+--------+--------+-----+\n",
      "| id|weight_o|height_o|age_o|\n",
      "+---+--------+--------+-----+\n",
      "|  1|   false|   false|false|\n",
      "|  2|   false|   false|false|\n",
      "|  3|    true|   false| true|\n",
      "|  4|   false|   false|false|\n",
      "|  5|   false|   false|false|\n",
      "|  6|   false|   false|false|\n",
      "|  7|   false|   false|false|\n",
      "+---+--------+--------+-----+\n",
      "\n"
     ]
    }
   ],
   "source": [
    "outliers = df_outliers.select(*['id'] + [\n",
    "    (\n",
    "        (df_outliers[c] < bounds[c][0]) | \n",
    "        (df_outliers[c] > bounds[c][1])\n",
    "    ).alias(c + '_o') for c in cols\n",
    "])\n",
    "outliers.show()"
   ]
  },
  {
   "cell_type": "markdown",
   "metadata": {},
   "source": [
    "We have two outliers in the `weight` feature and two in the `age` feature."
   ]
  },
  {
   "cell_type": "code",
   "execution_count": 21,
   "metadata": {},
   "outputs": [
    {
     "name": "stdout",
     "output_type": "stream",
     "text": [
      "+---+------+\n",
      "| id|weight|\n",
      "+---+------+\n",
      "|  3| 342.3|\n",
      "+---+------+\n",
      "\n",
      "+---+---+\n",
      "| id|age|\n",
      "+---+---+\n",
      "|  3| 99|\n",
      "+---+---+\n",
      "\n"
     ]
    }
   ],
   "source": [
    "df_outliers = df_outliers.join(outliers, on='id')\n",
    "df_outliers.filter('weight_o').select('id', 'weight').show()\n",
    "df_outliers.filter('age_o').select('id', 'age').show()"
   ]
  },
  {
   "cell_type": "markdown",
   "metadata": {},
   "source": [
    "## Understand your data\n",
    "\n",
    "### Descriptive statistics\n",
    "\n",
    "Load our data and convert it to a Spark DataFrame."
   ]
  },
  {
   "cell_type": "code",
   "execution_count": 22,
   "metadata": {},
   "outputs": [],
   "source": [
    "import pyspark.sql.types as typ"
   ]
  },
  {
   "cell_type": "markdown",
   "metadata": {},
   "source": [
    "Next, we download the data and the we read them im."
   ]
  },
  {
   "cell_type": "code",
   "execution_count": 23,
   "metadata": {},
   "outputs": [],
   "source": [
    "import os\n",
    "import urllib\n",
    "\n",
    "\n",
    "url = 'http://tomdrabas.com/data/LearningPySpark/ccFraud.csv.gz'\n",
    "\n",
    "\n",
    "data_folder = os.path.join(os.path.dirname(os.getcwd()), \"tmp\")\n",
    "\n",
    "data_filename = os.path.basename(url)\n",
    "data_path = os.path.join(data_folder, data_filename)\n",
    "\n",
    "# Create folder\n",
    "if not os.path.isdir(data_folder):\n",
    "    os.mkdir(data_folder)\n",
    "\n",
    "# Download\n",
    "if not os.path.exists(data_path):\n",
    "    urllib.request.urlretrieve(url, data_path)"
   ]
  },
  {
   "cell_type": "code",
   "execution_count": 24,
   "metadata": {},
   "outputs": [],
   "source": [
    "fraud = sc.textFile(data_path)\n",
    "header = fraud.first()\n",
    "\n",
    "fraud = fraud.filter(\n",
    "        lambda row: row != header\n",
    "    ).map(\n",
    "        lambda row: [int(elem) for elem in row.split(',')]\n",
    "    )"
   ]
  },
  {
   "cell_type": "markdown",
   "metadata": {},
   "source": [
    "Following, we create the schema for our `DataFrame`."
   ]
  },
  {
   "cell_type": "code",
   "execution_count": 25,
   "metadata": {},
   "outputs": [],
   "source": [
    "fields = [\n",
    "    *[\n",
    "        typ.StructField(h[1:-1], typ.IntegerType(), True)\n",
    "        for h in header.split(',')\n",
    "    ]\n",
    "]\n",
    "\n",
    "schema = typ.StructType(fields)"
   ]
  },
  {
   "cell_type": "markdown",
   "metadata": {},
   "source": [
    "Finally, we create our `DataFrame`."
   ]
  },
  {
   "cell_type": "code",
   "execution_count": 26,
   "metadata": {},
   "outputs": [],
   "source": [
    "fraud_df = sqlContext.createDataFrame(fraud, schema)"
   ]
  },
  {
   "cell_type": "markdown",
   "metadata": {},
   "source": [
    "Now that the dataframe is ready we can calculate the basic descriptive statistics for our dataset. "
   ]
  },
  {
   "cell_type": "code",
   "execution_count": 27,
   "metadata": {},
   "outputs": [
    {
     "name": "stdout",
     "output_type": "stream",
     "text": [
      "root\n",
      " |-- custID: integer (nullable = true)\n",
      " |-- gender: integer (nullable = true)\n",
      " |-- state: integer (nullable = true)\n",
      " |-- cardholder: integer (nullable = true)\n",
      " |-- balance: integer (nullable = true)\n",
      " |-- numTrans: integer (nullable = true)\n",
      " |-- numIntlTrans: integer (nullable = true)\n",
      " |-- creditLine: integer (nullable = true)\n",
      " |-- fraudRisk: integer (nullable = true)\n",
      "\n"
     ]
    }
   ],
   "source": [
    "fraud_df.printSchema()"
   ]
  },
  {
   "cell_type": "markdown",
   "metadata": {
    "collapsed": true
   },
   "source": [
    "For categorical columns we will count the frequencies of their values using `.groupby(...)` method."
   ]
  },
  {
   "cell_type": "code",
   "execution_count": 28,
   "metadata": {},
   "outputs": [
    {
     "name": "stdout",
     "output_type": "stream",
     "text": [
      "+------+-------+\n",
      "|gender|  count|\n",
      "+------+-------+\n",
      "|     1|6178231|\n",
      "|     2|3821769|\n",
      "+------+-------+\n",
      "\n"
     ]
    }
   ],
   "source": [
    "fraud_df_ = fraud_df.groupby('gender').count()  # beware may take a while\n",
    "fraud_df_.show()"
   ]
  },
  {
   "cell_type": "markdown",
   "metadata": {},
   "source": [
    "For the truly numerical features we can use the `.describe()` method."
   ]
  },
  {
   "cell_type": "code",
   "execution_count": 29,
   "metadata": {},
   "outputs": [],
   "source": [
    "numerical = ['balance', 'numTrans', 'numIntlTrans']"
   ]
  },
  {
   "cell_type": "code",
   "execution_count": 30,
   "metadata": {},
   "outputs": [
    {
     "name": "stdout",
     "output_type": "stream",
     "text": [
      "+-------+-----------------+------------------+-----------------+\n",
      "|summary|          balance|          numTrans|     numIntlTrans|\n",
      "+-------+-----------------+------------------+-----------------+\n",
      "|  count|         10000000|          10000000|         10000000|\n",
      "|   mean|     4109.9199193|        28.9351871|        4.0471899|\n",
      "| stddev|3996.847309737077|26.553781024522852|8.602970115863767|\n",
      "|    min|                0|                 0|                0|\n",
      "|    max|            41485|               100|               60|\n",
      "+-------+-----------------+------------------+-----------------+\n",
      "\n"
     ]
    }
   ],
   "source": [
    "desc = fraud_df.describe(numerical)  # beware may take another while\n",
    "desc.show()"
   ]
  },
  {
   "cell_type": "markdown",
   "metadata": {},
   "source": [
    "Here's how you check skewness (we will do it for the `'balance'` feature only)."
   ]
  },
  {
   "cell_type": "code",
   "execution_count": 31,
   "metadata": {},
   "outputs": [
    {
     "name": "stdout",
     "output_type": "stream",
     "text": [
      "+------------------+\n",
      "| skewness(balance)|\n",
      "+------------------+\n",
      "|1.1818315552995033|\n",
      "+------------------+\n",
      "\n"
     ]
    }
   ],
   "source": [
    "fraud_df.agg({'balance': 'skewness'}).show()  # ... and another one!"
   ]
  },
  {
   "cell_type": "markdown",
   "metadata": {
    "collapsed": true
   },
   "source": [
    "### Correlations\n",
    "\n",
    "Calculating correlations in PySpark is very easy once your data is in a DataFrame form."
   ]
  },
  {
   "cell_type": "code",
   "execution_count": 32,
   "metadata": {},
   "outputs": [
    {
     "data": {
      "text/plain": [
       "0.00044523140172659576"
      ]
     },
     "execution_count": 32,
     "metadata": {},
     "output_type": "execute_result"
    }
   ],
   "source": [
    "fraud_df.corr('balance', 'numTrans')"
   ]
  },
  {
   "cell_type": "markdown",
   "metadata": {},
   "source": [
    "In order to create a correlations matrix you can use the script below."
   ]
  },
  {
   "cell_type": "code",
   "execution_count": 33,
   "metadata": {},
   "outputs": [
    {
     "data": {
      "text/plain": [
       "[[1.0, 0.00044523140172659576, 0.00027139913398184604],\n",
       " [None, 1.0, -0.0002805712819816179],\n",
       " [None, None, 1.0]]"
      ]
     },
     "execution_count": 33,
     "metadata": {},
     "output_type": "execute_result"
    }
   ],
   "source": [
    "n_numerical = len(numerical)\n",
    "\n",
    "corr = []\n",
    "\n",
    "for i in range(0, n_numerical):\n",
    "    temp = [None] * i\n",
    "    \n",
    "    for j in range(i, n_numerical):\n",
    "        temp.append(fraud_df.corr(numerical[i], numerical[j]))\n",
    "    corr.append(temp)\n",
    "    \n",
    "corr"
   ]
  },
  {
   "cell_type": "markdown",
   "metadata": {
    "collapsed": true
   },
   "source": [
    "### Visualization\n",
    "\n",
    "First, let's load the modules and set them up."
   ]
  },
  {
   "cell_type": "code",
   "execution_count": 34,
   "metadata": {},
   "outputs": [
    {
     "data": {
      "text/html": [
       "\n",
       "    <div class=\"bk-root\">\n",
       "        <a href=\"https://bokeh.org\" target=\"_blank\" class=\"bk-logo bk-logo-small bk-logo-notebook\"></a>\n",
       "        <span id=\"1001\">Loading BokehJS ...</span>\n",
       "    </div>"
      ]
     },
     "metadata": {},
     "output_type": "display_data"
    },
    {
     "data": {
      "application/javascript": [
       "\n",
       "(function(root) {\n",
       "  function now() {\n",
       "    return new Date();\n",
       "  }\n",
       "\n",
       "  var force = true;\n",
       "\n",
       "  if (typeof root._bokeh_onload_callbacks === \"undefined\" || force === true) {\n",
       "    root._bokeh_onload_callbacks = [];\n",
       "    root._bokeh_is_loading = undefined;\n",
       "  }\n",
       "\n",
       "  var JS_MIME_TYPE = 'application/javascript';\n",
       "  var HTML_MIME_TYPE = 'text/html';\n",
       "  var EXEC_MIME_TYPE = 'application/vnd.bokehjs_exec.v0+json';\n",
       "  var CLASS_NAME = 'output_bokeh rendered_html';\n",
       "\n",
       "  /**\n",
       "   * Render data to the DOM node\n",
       "   */\n",
       "  function render(props, node) {\n",
       "    var script = document.createElement(\"script\");\n",
       "    node.appendChild(script);\n",
       "  }\n",
       "\n",
       "  /**\n",
       "   * Handle when an output is cleared or removed\n",
       "   */\n",
       "  function handleClearOutput(event, handle) {\n",
       "    var cell = handle.cell;\n",
       "\n",
       "    var id = cell.output_area._bokeh_element_id;\n",
       "    var server_id = cell.output_area._bokeh_server_id;\n",
       "    // Clean up Bokeh references\n",
       "    if (id != null && id in Bokeh.index) {\n",
       "      Bokeh.index[id].model.document.clear();\n",
       "      delete Bokeh.index[id];\n",
       "    }\n",
       "\n",
       "    if (server_id !== undefined) {\n",
       "      // Clean up Bokeh references\n",
       "      var cmd = \"from bokeh.io.state import curstate; print(curstate().uuid_to_server['\" + server_id + \"'].get_sessions()[0].document.roots[0]._id)\";\n",
       "      cell.notebook.kernel.execute(cmd, {\n",
       "        iopub: {\n",
       "          output: function(msg) {\n",
       "            var id = msg.content.text.trim();\n",
       "            if (id in Bokeh.index) {\n",
       "              Bokeh.index[id].model.document.clear();\n",
       "              delete Bokeh.index[id];\n",
       "            }\n",
       "          }\n",
       "        }\n",
       "      });\n",
       "      // Destroy server and session\n",
       "      var cmd = \"import bokeh.io.notebook as ion; ion.destroy_server('\" + server_id + \"')\";\n",
       "      cell.notebook.kernel.execute(cmd);\n",
       "    }\n",
       "  }\n",
       "\n",
       "  /**\n",
       "   * Handle when a new output is added\n",
       "   */\n",
       "  function handleAddOutput(event, handle) {\n",
       "    var output_area = handle.output_area;\n",
       "    var output = handle.output;\n",
       "\n",
       "    // limit handleAddOutput to display_data with EXEC_MIME_TYPE content only\n",
       "    if ((output.output_type != \"display_data\") || (!output.data.hasOwnProperty(EXEC_MIME_TYPE))) {\n",
       "      return\n",
       "    }\n",
       "\n",
       "    var toinsert = output_area.element.find(\".\" + CLASS_NAME.split(' ')[0]);\n",
       "\n",
       "    if (output.metadata[EXEC_MIME_TYPE][\"id\"] !== undefined) {\n",
       "      toinsert[toinsert.length - 1].firstChild.textContent = output.data[JS_MIME_TYPE];\n",
       "      // store reference to embed id on output_area\n",
       "      output_area._bokeh_element_id = output.metadata[EXEC_MIME_TYPE][\"id\"];\n",
       "    }\n",
       "    if (output.metadata[EXEC_MIME_TYPE][\"server_id\"] !== undefined) {\n",
       "      var bk_div = document.createElement(\"div\");\n",
       "      bk_div.innerHTML = output.data[HTML_MIME_TYPE];\n",
       "      var script_attrs = bk_div.children[0].attributes;\n",
       "      for (var i = 0; i < script_attrs.length; i++) {\n",
       "        toinsert[toinsert.length - 1].firstChild.setAttribute(script_attrs[i].name, script_attrs[i].value);\n",
       "        toinsert[toinsert.length - 1].firstChild.textContent = bk_div.children[0].textContent\n",
       "      }\n",
       "      // store reference to server id on output_area\n",
       "      output_area._bokeh_server_id = output.metadata[EXEC_MIME_TYPE][\"server_id\"];\n",
       "    }\n",
       "  }\n",
       "\n",
       "  function register_renderer(events, OutputArea) {\n",
       "\n",
       "    function append_mime(data, metadata, element) {\n",
       "      // create a DOM node to render to\n",
       "      var toinsert = this.create_output_subarea(\n",
       "        metadata,\n",
       "        CLASS_NAME,\n",
       "        EXEC_MIME_TYPE\n",
       "      );\n",
       "      this.keyboard_manager.register_events(toinsert);\n",
       "      // Render to node\n",
       "      var props = {data: data, metadata: metadata[EXEC_MIME_TYPE]};\n",
       "      render(props, toinsert[toinsert.length - 1]);\n",
       "      element.append(toinsert);\n",
       "      return toinsert\n",
       "    }\n",
       "\n",
       "    /* Handle when an output is cleared or removed */\n",
       "    events.on('clear_output.CodeCell', handleClearOutput);\n",
       "    events.on('delete.Cell', handleClearOutput);\n",
       "\n",
       "    /* Handle when a new output is added */\n",
       "    events.on('output_added.OutputArea', handleAddOutput);\n",
       "\n",
       "    /**\n",
       "     * Register the mime type and append_mime function with output_area\n",
       "     */\n",
       "    OutputArea.prototype.register_mime_type(EXEC_MIME_TYPE, append_mime, {\n",
       "      /* Is output safe? */\n",
       "      safe: true,\n",
       "      /* Index of renderer in `output_area.display_order` */\n",
       "      index: 0\n",
       "    });\n",
       "  }\n",
       "\n",
       "  // register the mime type if in Jupyter Notebook environment and previously unregistered\n",
       "  if (root.Jupyter !== undefined) {\n",
       "    var events = require('base/js/events');\n",
       "    var OutputArea = require('notebook/js/outputarea').OutputArea;\n",
       "\n",
       "    if (OutputArea.prototype.mime_types().indexOf(EXEC_MIME_TYPE) == -1) {\n",
       "      register_renderer(events, OutputArea);\n",
       "    }\n",
       "  }\n",
       "\n",
       "  \n",
       "  if (typeof (root._bokeh_timeout) === \"undefined\" || force === true) {\n",
       "    root._bokeh_timeout = Date.now() + 5000;\n",
       "    root._bokeh_failed_load = false;\n",
       "  }\n",
       "\n",
       "  var NB_LOAD_WARNING = {'data': {'text/html':\n",
       "     \"<div style='background-color: #fdd'>\\n\"+\n",
       "     \"<p>\\n\"+\n",
       "     \"BokehJS does not appear to have successfully loaded. If loading BokehJS from CDN, this \\n\"+\n",
       "     \"may be due to a slow or bad network connection. Possible fixes:\\n\"+\n",
       "     \"</p>\\n\"+\n",
       "     \"<ul>\\n\"+\n",
       "     \"<li>re-rerun `output_notebook()` to attempt to load from CDN again, or</li>\\n\"+\n",
       "     \"<li>use INLINE resources instead, as so:</li>\\n\"+\n",
       "     \"</ul>\\n\"+\n",
       "     \"<code>\\n\"+\n",
       "     \"from bokeh.resources import INLINE\\n\"+\n",
       "     \"output_notebook(resources=INLINE)\\n\"+\n",
       "     \"</code>\\n\"+\n",
       "     \"</div>\"}};\n",
       "\n",
       "  function display_loaded() {\n",
       "    var el = document.getElementById(\"1001\");\n",
       "    if (el != null) {\n",
       "      el.textContent = \"BokehJS is loading...\";\n",
       "    }\n",
       "    if (root.Bokeh !== undefined) {\n",
       "      if (el != null) {\n",
       "        el.textContent = \"BokehJS \" + root.Bokeh.version + \" successfully loaded.\";\n",
       "      }\n",
       "    } else if (Date.now() < root._bokeh_timeout) {\n",
       "      setTimeout(display_loaded, 100)\n",
       "    }\n",
       "  }\n",
       "\n",
       "\n",
       "  function run_callbacks() {\n",
       "    try {\n",
       "      root._bokeh_onload_callbacks.forEach(function(callback) {\n",
       "        if (callback != null)\n",
       "          callback();\n",
       "      });\n",
       "    } finally {\n",
       "      delete root._bokeh_onload_callbacks\n",
       "    }\n",
       "    console.debug(\"Bokeh: all callbacks have finished\");\n",
       "  }\n",
       "\n",
       "  function load_libs(css_urls, js_urls, callback) {\n",
       "    if (css_urls == null) css_urls = [];\n",
       "    if (js_urls == null) js_urls = [];\n",
       "\n",
       "    root._bokeh_onload_callbacks.push(callback);\n",
       "    if (root._bokeh_is_loading > 0) {\n",
       "      console.debug(\"Bokeh: BokehJS is being loaded, scheduling callback at\", now());\n",
       "      return null;\n",
       "    }\n",
       "    if (js_urls == null || js_urls.length === 0) {\n",
       "      run_callbacks();\n",
       "      return null;\n",
       "    }\n",
       "    console.debug(\"Bokeh: BokehJS not loaded, scheduling load and callback at\", now());\n",
       "    root._bokeh_is_loading = css_urls.length + js_urls.length;\n",
       "\n",
       "    function on_load() {\n",
       "      root._bokeh_is_loading--;\n",
       "      if (root._bokeh_is_loading === 0) {\n",
       "        console.debug(\"Bokeh: all BokehJS libraries/stylesheets loaded\");\n",
       "        run_callbacks()\n",
       "      }\n",
       "    }\n",
       "\n",
       "    function on_error() {\n",
       "      console.error(\"failed to load \" + url);\n",
       "    }\n",
       "\n",
       "    for (var i = 0; i < css_urls.length; i++) {\n",
       "      var url = css_urls[i];\n",
       "      const element = document.createElement(\"link\");\n",
       "      element.onload = on_load;\n",
       "      element.onerror = on_error;\n",
       "      element.rel = \"stylesheet\";\n",
       "      element.type = \"text/css\";\n",
       "      element.href = url;\n",
       "      console.debug(\"Bokeh: injecting link tag for BokehJS stylesheet: \", url);\n",
       "      document.body.appendChild(element);\n",
       "    }\n",
       "\n",
       "    const hashes = {\"https://cdn.bokeh.org/bokeh/release/bokeh-2.0.2.min.js\": \"ufR9RFnRs6lniiaFvtJziE0YeidtAgBRH6ux2oUItHw5WTvE1zuk9uzhUU/FJXDp\", \"https://cdn.bokeh.org/bokeh/release/bokeh-widgets-2.0.2.min.js\": \"8QM/PGWBT+IssZuRcDcjzwIh1mkOmJSoNMmyYDZbCfXJg3Ap1lEvdVgFuSAwhb/J\", \"https://cdn.bokeh.org/bokeh/release/bokeh-tables-2.0.2.min.js\": \"Jm8cH3Rg0P6UeZhVY5cLy1WzKajUT9KImCY+76hEqrcJt59/d8GPvFHjCkYgnSIn\", \"https://cdn.bokeh.org/bokeh/release/bokeh-gl-2.0.2.min.js\": \"Ozhzj+SI7ywm74aOI/UajcWz+C0NjsPunEVyVIrxzYkB+jA+2tUw8x5xJCbVtK5I\"};\n",
       "\n",
       "    for (var i = 0; i < js_urls.length; i++) {\n",
       "      var url = js_urls[i];\n",
       "      var element = document.createElement('script');\n",
       "      element.onload = on_load;\n",
       "      element.onerror = on_error;\n",
       "      element.async = false;\n",
       "      element.src = url;\n",
       "      if (url in hashes) {\n",
       "        element.crossOrigin = \"anonymous\";\n",
       "        element.integrity = \"sha384-\" + hashes[url];\n",
       "      }\n",
       "      console.debug(\"Bokeh: injecting script tag for BokehJS library: \", url);\n",
       "      document.head.appendChild(element);\n",
       "    }\n",
       "  };\n",
       "\n",
       "  function inject_raw_css(css) {\n",
       "    const element = document.createElement(\"style\");\n",
       "    element.appendChild(document.createTextNode(css));\n",
       "    document.body.appendChild(element);\n",
       "  }\n",
       "\n",
       "  \n",
       "  var js_urls = [\"https://cdn.bokeh.org/bokeh/release/bokeh-2.0.2.min.js\", \"https://cdn.bokeh.org/bokeh/release/bokeh-widgets-2.0.2.min.js\", \"https://cdn.bokeh.org/bokeh/release/bokeh-tables-2.0.2.min.js\", \"https://cdn.bokeh.org/bokeh/release/bokeh-gl-2.0.2.min.js\"];\n",
       "  var css_urls = [];\n",
       "  \n",
       "\n",
       "  var inline_js = [\n",
       "    function(Bokeh) {\n",
       "      Bokeh.set_log_level(\"info\");\n",
       "    },\n",
       "    function(Bokeh) {\n",
       "    \n",
       "    \n",
       "    }\n",
       "  ];\n",
       "\n",
       "  function run_inline_js() {\n",
       "    \n",
       "    if (root.Bokeh !== undefined || force === true) {\n",
       "      \n",
       "    for (var i = 0; i < inline_js.length; i++) {\n",
       "      inline_js[i].call(root, root.Bokeh);\n",
       "    }\n",
       "    if (force === true) {\n",
       "        display_loaded();\n",
       "      }} else if (Date.now() < root._bokeh_timeout) {\n",
       "      setTimeout(run_inline_js, 100);\n",
       "    } else if (!root._bokeh_failed_load) {\n",
       "      console.log(\"Bokeh: BokehJS failed to load within specified timeout.\");\n",
       "      root._bokeh_failed_load = true;\n",
       "    } else if (force !== true) {\n",
       "      var cell = $(document.getElementById(\"1001\")).parents('.cell').data().cell;\n",
       "      cell.output_area.append_execute_result(NB_LOAD_WARNING)\n",
       "    }\n",
       "\n",
       "  }\n",
       "\n",
       "  if (root._bokeh_is_loading === 0) {\n",
       "    console.debug(\"Bokeh: BokehJS loaded, going straight to plotting\");\n",
       "    run_inline_js();\n",
       "  } else {\n",
       "    load_libs(css_urls, js_urls, function() {\n",
       "      console.debug(\"Bokeh: BokehJS plotting callback run at\", now());\n",
       "      run_inline_js();\n",
       "    });\n",
       "  }\n",
       "}(window));"
      ],
      "application/vnd.bokehjs_load.v0+json": "\n(function(root) {\n  function now() {\n    return new Date();\n  }\n\n  var force = true;\n\n  if (typeof root._bokeh_onload_callbacks === \"undefined\" || force === true) {\n    root._bokeh_onload_callbacks = [];\n    root._bokeh_is_loading = undefined;\n  }\n\n  \n\n  \n  if (typeof (root._bokeh_timeout) === \"undefined\" || force === true) {\n    root._bokeh_timeout = Date.now() + 5000;\n    root._bokeh_failed_load = false;\n  }\n\n  var NB_LOAD_WARNING = {'data': {'text/html':\n     \"<div style='background-color: #fdd'>\\n\"+\n     \"<p>\\n\"+\n     \"BokehJS does not appear to have successfully loaded. If loading BokehJS from CDN, this \\n\"+\n     \"may be due to a slow or bad network connection. Possible fixes:\\n\"+\n     \"</p>\\n\"+\n     \"<ul>\\n\"+\n     \"<li>re-rerun `output_notebook()` to attempt to load from CDN again, or</li>\\n\"+\n     \"<li>use INLINE resources instead, as so:</li>\\n\"+\n     \"</ul>\\n\"+\n     \"<code>\\n\"+\n     \"from bokeh.resources import INLINE\\n\"+\n     \"output_notebook(resources=INLINE)\\n\"+\n     \"</code>\\n\"+\n     \"</div>\"}};\n\n  function display_loaded() {\n    var el = document.getElementById(\"1001\");\n    if (el != null) {\n      el.textContent = \"BokehJS is loading...\";\n    }\n    if (root.Bokeh !== undefined) {\n      if (el != null) {\n        el.textContent = \"BokehJS \" + root.Bokeh.version + \" successfully loaded.\";\n      }\n    } else if (Date.now() < root._bokeh_timeout) {\n      setTimeout(display_loaded, 100)\n    }\n  }\n\n\n  function run_callbacks() {\n    try {\n      root._bokeh_onload_callbacks.forEach(function(callback) {\n        if (callback != null)\n          callback();\n      });\n    } finally {\n      delete root._bokeh_onload_callbacks\n    }\n    console.debug(\"Bokeh: all callbacks have finished\");\n  }\n\n  function load_libs(css_urls, js_urls, callback) {\n    if (css_urls == null) css_urls = [];\n    if (js_urls == null) js_urls = [];\n\n    root._bokeh_onload_callbacks.push(callback);\n    if (root._bokeh_is_loading > 0) {\n      console.debug(\"Bokeh: BokehJS is being loaded, scheduling callback at\", now());\n      return null;\n    }\n    if (js_urls == null || js_urls.length === 0) {\n      run_callbacks();\n      return null;\n    }\n    console.debug(\"Bokeh: BokehJS not loaded, scheduling load and callback at\", now());\n    root._bokeh_is_loading = css_urls.length + js_urls.length;\n\n    function on_load() {\n      root._bokeh_is_loading--;\n      if (root._bokeh_is_loading === 0) {\n        console.debug(\"Bokeh: all BokehJS libraries/stylesheets loaded\");\n        run_callbacks()\n      }\n    }\n\n    function on_error() {\n      console.error(\"failed to load \" + url);\n    }\n\n    for (var i = 0; i < css_urls.length; i++) {\n      var url = css_urls[i];\n      const element = document.createElement(\"link\");\n      element.onload = on_load;\n      element.onerror = on_error;\n      element.rel = \"stylesheet\";\n      element.type = \"text/css\";\n      element.href = url;\n      console.debug(\"Bokeh: injecting link tag for BokehJS stylesheet: \", url);\n      document.body.appendChild(element);\n    }\n\n    const hashes = {\"https://cdn.bokeh.org/bokeh/release/bokeh-2.0.2.min.js\": \"ufR9RFnRs6lniiaFvtJziE0YeidtAgBRH6ux2oUItHw5WTvE1zuk9uzhUU/FJXDp\", \"https://cdn.bokeh.org/bokeh/release/bokeh-widgets-2.0.2.min.js\": \"8QM/PGWBT+IssZuRcDcjzwIh1mkOmJSoNMmyYDZbCfXJg3Ap1lEvdVgFuSAwhb/J\", \"https://cdn.bokeh.org/bokeh/release/bokeh-tables-2.0.2.min.js\": \"Jm8cH3Rg0P6UeZhVY5cLy1WzKajUT9KImCY+76hEqrcJt59/d8GPvFHjCkYgnSIn\", \"https://cdn.bokeh.org/bokeh/release/bokeh-gl-2.0.2.min.js\": \"Ozhzj+SI7ywm74aOI/UajcWz+C0NjsPunEVyVIrxzYkB+jA+2tUw8x5xJCbVtK5I\"};\n\n    for (var i = 0; i < js_urls.length; i++) {\n      var url = js_urls[i];\n      var element = document.createElement('script');\n      element.onload = on_load;\n      element.onerror = on_error;\n      element.async = false;\n      element.src = url;\n      if (url in hashes) {\n        element.crossOrigin = \"anonymous\";\n        element.integrity = \"sha384-\" + hashes[url];\n      }\n      console.debug(\"Bokeh: injecting script tag for BokehJS library: \", url);\n      document.head.appendChild(element);\n    }\n  };\n\n  function inject_raw_css(css) {\n    const element = document.createElement(\"style\");\n    element.appendChild(document.createTextNode(css));\n    document.body.appendChild(element);\n  }\n\n  \n  var js_urls = [\"https://cdn.bokeh.org/bokeh/release/bokeh-2.0.2.min.js\", \"https://cdn.bokeh.org/bokeh/release/bokeh-widgets-2.0.2.min.js\", \"https://cdn.bokeh.org/bokeh/release/bokeh-tables-2.0.2.min.js\", \"https://cdn.bokeh.org/bokeh/release/bokeh-gl-2.0.2.min.js\"];\n  var css_urls = [];\n  \n\n  var inline_js = [\n    function(Bokeh) {\n      Bokeh.set_log_level(\"info\");\n    },\n    function(Bokeh) {\n    \n    \n    }\n  ];\n\n  function run_inline_js() {\n    \n    if (root.Bokeh !== undefined || force === true) {\n      \n    for (var i = 0; i < inline_js.length; i++) {\n      inline_js[i].call(root, root.Bokeh);\n    }\n    if (force === true) {\n        display_loaded();\n      }} else if (Date.now() < root._bokeh_timeout) {\n      setTimeout(run_inline_js, 100);\n    } else if (!root._bokeh_failed_load) {\n      console.log(\"Bokeh: BokehJS failed to load within specified timeout.\");\n      root._bokeh_failed_load = true;\n    } else if (force !== true) {\n      var cell = $(document.getElementById(\"1001\")).parents('.cell').data().cell;\n      cell.output_area.append_execute_result(NB_LOAD_WARNING)\n    }\n\n  }\n\n  if (root._bokeh_is_loading === 0) {\n    console.debug(\"Bokeh: BokehJS loaded, going straight to plotting\");\n    run_inline_js();\n  } else {\n    load_libs(css_urls, js_urls, function() {\n      console.debug(\"Bokeh: BokehJS plotting callback run at\", now());\n      run_inline_js();\n    });\n  }\n}(window));"
     },
     "metadata": {},
     "output_type": "display_data"
    }
   ],
   "source": [
    "%matplotlib inline\n",
    "import matplotlib.pyplot as plt\n",
    "plt.style.use('ggplot')\n",
    "\n",
    "import bokeh\n",
    "import bokeh.io\n",
    "import bokeh.plotting\n",
    "\n",
    "\n",
    "bokeh.io.output_notebook()"
   ]
  },
  {
   "cell_type": "markdown",
   "metadata": {
    "collapsed": true
   },
   "source": [
    "### Histograms\n",
    "\n",
    "Aggreagate the data in workers and return aggregated list of cut-off points and counts in each bin of the histogram to the driver."
   ]
  },
  {
   "cell_type": "code",
   "execution_count": 35,
   "metadata": {},
   "outputs": [],
   "source": [
    "hists = fraud_df.select('balance').rdd.flatMap(lambda row: row).histogram(20)"
   ]
  },
  {
   "cell_type": "markdown",
   "metadata": {},
   "source": [
    "To plot the histogram you can simply call the matplotlib like below."
   ]
  },
  {
   "cell_type": "code",
   "execution_count": 36,
   "metadata": {},
   "outputs": [
    {
     "data": {
      "image/png": "[encoded data removed]",
      "text/plain": [
       "<Figure size 864x648 with 1 Axes>"
      ]
     },
     "metadata": {},
     "output_type": "display_data"
    }
   ],
   "source": [
    "data = {\n",
    "    'bins': hists[0][:-1],\n",
    "    'freq': hists[1]\n",
    "}\n",
    "\n",
    "fig = plt.figure(figsize=(12,9))\n",
    "ax = fig.add_subplot(1, 1, 1)\n",
    "ax.bar(data['bins'], data['freq'], width=2000)\n",
    "ax.set_title('Histogram of \\'balance\\'')\n",
    "\n",
    "plt.savefig('z_B05793_05_22.png', dpi=300)"
   ]
  },
  {
   "cell_type": "markdown",
   "metadata": {},
   "source": [
    "In a similar manner, a histogram can be create with Bokeh."
   ]
  },
  {
   "cell_type": "code",
   "execution_count": 37,
   "metadata": {},
   "outputs": [
    {
     "data": {
      "text/html": [
       "\n",
       "\n",
       "\n",
       "\n",
       "\n",
       "\n",
       "  <div class=\"bk-root\" id=\"f2281c68-c6b2-4a18-b8b3-7a6607bd8a4b\" data-root-id=\"1002\"></div>\n"
      ]
     },
     "metadata": {},
     "output_type": "display_data"
    },
    {
     "data": {
      "application/javascript": [
       "(function(root) {\n",
       "  function embed_document(root) {\n",
       "    \n",
       "  var docs_json = {\"f99169d1-6ea8-40c4-8cef-fc37a52f62db\":{\"roots\":{\"references\":[{\"attributes\":{\"below\":[{\"id\":\"1013\"}],\"center\":[{\"id\":\"1016\"},{\"id\":\"1020\"}],\"left\":[{\"id\":\"1017\"}],\"renderers\":[{\"id\":\"1038\"}],\"title\":{\"id\":\"1003\"},\"toolbar\":{\"id\":\"1028\"},\"x_range\":{\"id\":\"1005\"},\"x_scale\":{\"id\":\"1009\"},\"y_range\":{\"id\":\"1007\"},\"y_scale\":{\"id\":\"1011\"}},\"id\":\"1002\",\"subtype\":\"Figure\",\"type\":\"Plot\"},{\"attributes\":{\"formatter\":{\"id\":\"1043\"},\"ticker\":{\"id\":\"1018\"}},\"id\":\"1017\",\"type\":\"LinearAxis\"},{\"attributes\":{},\"id\":\"1047\",\"type\":\"Selection\"},{\"attributes\":{},\"id\":\"1005\",\"type\":\"DataRange1d\"},{\"attributes\":{\"axis\":{\"id\":\"1017\"},\"dimension\":1,\"ticker\":null},\"id\":\"1020\",\"type\":\"Grid\"},{\"attributes\":{\"fill_alpha\":{\"value\":0.1},\"fill_color\":{\"value\":\"#1f77b4\"},\"line_alpha\":{\"value\":0.1},\"line_color\":{\"value\":\"#1f77b4\"},\"top\":{\"field\":\"top\"},\"width\":{\"value\":1000},\"x\":{\"field\":\"x\"}},\"id\":\"1037\",\"type\":\"VBar\"},{\"attributes\":{\"bottom_units\":\"screen\",\"fill_alpha\":0.5,\"fill_color\":\"lightgrey\",\"left_units\":\"screen\",\"level\":\"overlay\",\"line_alpha\":1.0,\"line_color\":\"black\",\"line_dash\":[4,4],\"line_width\":2,\"render_mode\":\"css\",\"right_units\":\"screen\",\"top_units\":\"screen\"},\"id\":\"1027\",\"type\":\"BoxAnnotation\"},{\"attributes\":{\"formatter\":{\"id\":\"1041\"},\"ticker\":{\"id\":\"1014\"}},\"id\":\"1013\",\"type\":\"LinearAxis\"},{\"attributes\":{},\"id\":\"1022\",\"type\":\"WheelZoomTool\"},{\"attributes\":{\"data_source\":{\"id\":\"1035\"},\"glyph\":{\"id\":\"1036\"},\"hover_glyph\":null,\"muted_glyph\":null,\"nonselection_glyph\":{\"id\":\"1037\"},\"selection_glyph\":null,\"view\":{\"id\":\"1039\"}},\"id\":\"1038\",\"type\":\"GlyphRenderer\"},{\"attributes\":{\"source\":{\"id\":\"1035\"}},\"id\":\"1039\",\"type\":\"CDSView\"},{\"attributes\":{\"overlay\":{\"id\":\"1027\"}},\"id\":\"1023\",\"type\":\"BoxZoomTool\"},{\"attributes\":{},\"id\":\"1014\",\"type\":\"BasicTicker\"},{\"attributes\":{},\"id\":\"1009\",\"type\":\"LinearScale\"},{\"attributes\":{},\"id\":\"1041\",\"type\":\"BasicTickFormatter\"},{\"attributes\":{},\"id\":\"1007\",\"type\":\"DataRange1d\"},{\"attributes\":{\"data\":{\"top\":[3640021,2258778,1718633,1035019,601524,343461,192766,104486,54517,27570,13117,5805,2650,1103,358,127,45,15,1,4],\"x\":[0.0,2074.25,4148.5,6222.75,8297.0,10371.25,12445.5,14519.75,16594.0,18668.25,20742.5,22816.75,24891.0,26965.25,29039.5,31113.75,33188.0,35262.25,37336.5,39410.75]},\"selected\":{\"id\":\"1047\"},\"selection_policy\":{\"id\":\"1046\"}},\"id\":\"1035\",\"type\":\"ColumnDataSource\"},{\"attributes\":{\"fill_color\":{\"value\":\"#1f77b4\"},\"line_color\":{\"value\":\"#1f77b4\"},\"top\":{\"field\":\"top\"},\"width\":{\"value\":1000},\"x\":{\"field\":\"x\"}},\"id\":\"1036\",\"type\":\"VBar\"},{\"attributes\":{},\"id\":\"1018\",\"type\":\"BasicTicker\"},{\"attributes\":{},\"id\":\"1025\",\"type\":\"ResetTool\"},{\"attributes\":{},\"id\":\"1026\",\"type\":\"HelpTool\"},{\"attributes\":{\"active_drag\":\"auto\",\"active_inspect\":\"auto\",\"active_multi\":null,\"active_scroll\":\"auto\",\"active_tap\":\"auto\",\"tools\":[{\"id\":\"1021\"},{\"id\":\"1022\"},{\"id\":\"1023\"},{\"id\":\"1024\"},{\"id\":\"1025\"},{\"id\":\"1026\"}]},\"id\":\"1028\",\"type\":\"Toolbar\"},{\"attributes\":{},\"id\":\"1021\",\"type\":\"PanTool\"},{\"attributes\":{\"axis\":{\"id\":\"1013\"},\"ticker\":null},\"id\":\"1016\",\"type\":\"Grid\"},{\"attributes\":{},\"id\":\"1024\",\"type\":\"SaveTool\"},{\"attributes\":{},\"id\":\"1046\",\"type\":\"UnionRenderers\"},{\"attributes\":{},\"id\":\"1011\",\"type\":\"LinearScale\"},{\"attributes\":{\"text\":\"Histogram of 'balance'\"},\"id\":\"1003\",\"type\":\"Title\"},{\"attributes\":{},\"id\":\"1043\",\"type\":\"BasicTickFormatter\"}],\"root_ids\":[\"1002\"]},\"title\":\"Bokeh Application\",\"version\":\"2.0.2\"}};\n",
       "  var render_items = [{\"docid\":\"f99169d1-6ea8-40c4-8cef-fc37a52f62db\",\"root_ids\":[\"1002\"],\"roots\":{\"1002\":\"f2281c68-c6b2-4a18-b8b3-7a6607bd8a4b\"}}];\n",
       "  root.Bokeh.embed.embed_items_notebook(docs_json, render_items);\n",
       "\n",
       "  }\n",
       "  if (root.Bokeh !== undefined) {\n",
       "    embed_document(root);\n",
       "  } else {\n",
       "    var attempts = 0;\n",
       "    var timer = setInterval(function(root) {\n",
       "      if (root.Bokeh !== undefined) {\n",
       "        clearInterval(timer);\n",
       "        embed_document(root);\n",
       "      } else {\n",
       "        attempts++;\n",
       "        if (attempts > 100) {\n",
       "          clearInterval(timer);\n",
       "          console.log(\"Bokeh: ERROR: Unable to run BokehJS code because BokehJS library is missing\");\n",
       "        }\n",
       "      }\n",
       "    }, 10, root)\n",
       "  }\n",
       "})(window);"
      ],
      "application/vnd.bokehjs_exec.v0+json": ""
     },
     "metadata": {
      "application/vnd.bokehjs_exec.v0+json": {
       "id": "1002"
      }
     },
     "output_type": "display_data"
    }
   ],
   "source": [
    "p = bokeh.plotting.figure(\n",
    "    title=\"Histogram of 'balance'\",\n",
    ")\n",
    "p.vbar(x=data[\"bins\"], top=data[\"freq\"], width=1000)\n",
    "# bokeh.io.output_file(\"z_vbar.html\")\n",
    "bokeh.io.show(p)"
   ]
  },
  {
   "cell_type": "markdown",
   "metadata": {},
   "source": [
    "If your data is small enough to fit on the driver (although we would argue it would normally be faster to use the method showed above) you can bring the data and use the `.hist(...)` (from Matplotlib) or `.Histogram(...)` (from Bokeh) methods."
   ]
  },
  {
   "cell_type": "code",
   "execution_count": 38,
   "metadata": {},
   "outputs": [],
   "source": [
    "data_driver = {'obs': fraud_df.select('balance').rdd.flatMap(lambda row: row).collect()}"
   ]
  },
  {
   "cell_type": "code",
   "execution_count": 39,
   "metadata": {},
   "outputs": [
    {
     "data": {
      "image/png": "[encoded data removed]",
      "text/plain": [
       "<Figure size 864x648 with 1 Axes>"
      ]
     },
     "metadata": {},
     "output_type": "display_data"
    }
   ],
   "source": [
    "fig = plt.figure(figsize=(12,9))\n",
    "ax = fig.add_subplot(1, 1, 1)\n",
    "\n",
    "ax.hist(data_driver['obs'], bins=20)\n",
    "ax.set_title('Histogram of \\'balance\\' using .hist()')\n",
    "\n",
    "\n",
    "plt.savefig('B05793_05_24.png', dpi=300)"
   ]
  },
  {
   "cell_type": "markdown",
   "metadata": {},
   "source": [
    "\n",
    "\n",
    "\n",
    "\n",
    "\n",
    "### Interactions between features\n",
    "\n",
    "In this example we will sample our fraud dataset at 1% given gender as strata."
   ]
  },
  {
   "cell_type": "code",
   "execution_count": 41,
   "metadata": {},
   "outputs": [],
   "source": [
    "data_sample = fraud_df.sampleBy('gender', {1: 0.0002, 2: 0.0002}).select(numerical)"
   ]
  },
  {
   "cell_type": "markdown",
   "metadata": {},
   "source": [
    "To put multiple 2D charts in one go you can use"
   ]
  },
  {
   "cell_type": "code",
   "execution_count": 54,
   "metadata": {},
   "outputs": [],
   "source": [
    "data_multi = dict(\n",
    "    [\n",
    "        (elem, data_sample.select(elem).rdd.flatMap(lambda row: row).collect()) \n",
    "        for elem in numerical\n",
    "    ]\n",
    ")"
   ]
  },
  {
   "cell_type": "code",
   "execution_count": 64,
   "metadata": {},
   "outputs": [
    {
     "data": {
      "text/html": [
       "\n",
       "\n",
       "\n",
       "\n",
       "\n",
       "\n",
       "  <div class=\"bk-root\" id=\"6838dfa4-c17b-4002-906b-e0dfd9046a5e\" data-root-id=\"3124\"></div>\n"
      ]
     },
     "metadata": {},
     "output_type": "display_data"
    },
    {
     "data": {
      "application/javascript": [
       "(function(root) {\n",
       "  function embed_document(root) {\n",
       "    \n",
       "  var docs_json = {\"2debfee0-9047-4aa2-b367-3247d1737fde\":{\"roots\":{\"references\":[{\"attributes\":{\"below\":[{\"id\":\"3133\"}],\"center\":[{\"id\":\"3136\"},{\"id\":\"3140\"}],\"left\":[{\"id\":\"3137\"}],\"renderers\":[{\"id\":\"3179\"}],\"title\":{\"id\":\"3305\"},\"toolbar\":{\"id\":\"3160\"},\"x_range\":{\"id\":\"3125\"},\"x_scale\":{\"id\":\"3129\"},\"y_range\":{\"id\":\"3127\"},\"y_scale\":{\"id\":\"3131\"}},\"id\":\"3124\",\"subtype\":\"Figure\",\"type\":\"Plot\"},{\"attributes\":{\"text\":\"\"},\"id\":\"3305\",\"type\":\"Title\"},{\"attributes\":{\"source\":{\"id\":\"3176\"}},\"id\":\"3180\",\"type\":\"CDSView\"},{\"attributes\":{\"data_source\":{\"id\":\"3176\"},\"glyph\":{\"id\":\"3177\"},\"hover_glyph\":null,\"muted_glyph\":null,\"nonselection_glyph\":{\"id\":\"3178\"},\"selection_glyph\":null,\"view\":{\"id\":\"3180\"}},\"id\":\"3179\",\"type\":\"GlyphRenderer\"},{\"attributes\":{\"axis\":{\"id\":\"3137\"},\"dimension\":1,\"ticker\":null},\"id\":\"3140\",\"type\":\"Grid\"},{\"attributes\":{},\"id\":\"3148\",\"type\":\"UndoTool\"},{\"attributes\":{},\"id\":\"3149\",\"type\":\"RedoTool\"},{\"attributes\":{\"callback\":null},\"id\":\"3151\",\"type\":\"TapTool\"},{\"attributes\":{\"fill_alpha\":{\"value\":0.1},\"fill_color\":{\"field\":\"fill_color\"},\"line_alpha\":{\"value\":0.1},\"line_color\":{\"value\":\"#1f77b4\"},\"x\":{\"field\":\"x\"},\"y\":{\"field\":\"y\"}},\"id\":\"3178\",\"type\":\"Scatter\"},{\"attributes\":{},\"id\":\"3152\",\"type\":\"SaveTool\"},{\"attributes\":{\"bottom_units\":\"screen\",\"fill_alpha\":0.5,\"fill_color\":\"lightgrey\",\"left_units\":\"screen\",\"level\":\"overlay\",\"line_alpha\":1.0,\"line_color\":\"black\",\"line_dash\":[4,4],\"line_width\":2,\"render_mode\":\"css\",\"right_units\":\"screen\",\"top_units\":\"screen\"},\"id\":\"3156\",\"type\":\"BoxAnnotation\"},{\"attributes\":{},\"id\":\"3307\",\"type\":\"BasicTickFormatter\"},{\"attributes\":{\"overlay\":{\"id\":\"3156\"}},\"id\":\"3153\",\"type\":\"BoxSelectTool\"},{\"attributes\":{},\"id\":\"3309\",\"type\":\"BasicTickFormatter\"},{\"attributes\":{\"overlay\":{\"id\":\"3159\"}},\"id\":\"3154\",\"type\":\"PolySelectTool\"},{\"attributes\":{\"data\":{\"fill_color\":[\"#42be0f\",\"#001000f\",\"#45bb0f\",\"#25db0f\",\"#001000f\",\"#36ca0f\",\"#21df0f\",\"#001000f\",\"#12ee0f\",\"#52ae0f\",\"#42be0f\",\"#18e80f\",\"#1ce40f\",\"#001000f\",\"#21df0f\",\"#21df0f\",\"#1ae60f\",\"#52ae0f\",\"#42be0f\",\"#42be0f\",\"#001000f\",\"#15eb0f\",\"#001000f\",\"#001000f\",\"#0af60f\",\"#34cc0f\",\"#4ab60f\",\"#001000f\",\"#4cb40f\",\"#1ee20f\",\"#001000f\",\"#001000f\",\"#0df30f\",\"#3ac60f\",\"#31cf0f\",\"#47b90f\",\"#21df0f\",\"#001000f\",\"#1ce40f\",\"#4bb50f\",\"#0bf50f\",\"#001000f\",\"#29d70f\",\"#21df0f\",\"#42be0f\",\"#21df0f\",\"#2ed20f\",\"#001000f\",\"#2ad60f\",\"#001000f\",\"#4ab60f\",\"#2dd30f\",\"#18e80f\",\"#44bc0f\",\"#001000f\",\"#18e80f\",\"#18e80f\",\"#18e80f\",\"#001000f\",\"#1de30f\",\"#3ac60f\",\"#79870f\",\"#29d70f\",\"#46ba0f\",\"#24dc0f\",\"#21df0f\",\"#31cf0f\",\"#52ae0f\",\"#001000f\",\"#1ee20f\",\"#3ac60f\",\"#31cf0f\",\"#31cf0f\",\"#02fe0f\",\"#04fc0f\",\"#001000f\",\"#2bd50f\",\"#001000f\",\"#22de0f\",\"#001000f\",\"#5ba50f\",\"#10f00f\",\"#21df0f\",\"#001000f\",\"#14ec0f\",\"#001000f\",\"#001000f\",\"#18e80f\",\"#21df0f\",\"#18e80f\",\"#29d70f\",\"#3fc10f\",\"#001000f\",\"#001000f\",\"#21df0f\",\"#2ad60f\",\"#001000f\",\"#07f90f\",\"#21df0f\",\"#25db0f\",\"#3ec20f\",\"#001000f\",\"#001000f\",\"#31cf0f\",\"#001000f\",\"#12ee0f\",\"#0bf50f\",\"#001000f\",\"#001000f\",\"#18e80f\",\"#23dd0f\",\"#18e80f\",\"#16ea0f\",\"#001000f\",\"#31cf0f\",\"#70900f\",\"#05fb0f\",\"#001000f\",\"#21df0f\",\"#001000f\",\"#18e80f\",\"#001000f\",\"#52ae0f\",\"#4bb50f\",\"#001000f\",\"#001000f\",\"#21df0f\",\"#42be0f\",\"#001000f\",\"#10f00f\",\"#14ec0f\",\"#18e80f\",\"#16ea0f\",\"#7d830f\",\"#29d70f\",\"#001000f\",\"#5ca40f\",\"#001000f\",\"#001000f\",\"#001000f\",\"#21df0f\",\"#31cf0f\",\"#001000f\",\"#25db0f\",\"#18e80f\",\"#2fd10f\",\"#21df0f\",\"#001000f\",\"#669a0f\",\"#37c90f\",\"#1ee20f\",\"#4ab60f\",\"#3ac60f\",\"#02fe0f\",\"#24dc0f\",\"#001000f\",\"#001000f\",\"#18e80f\",\"#20e00f\",\"#0cf40f\",\"#06fa0f\",\"#001000f\",\"#29d70f\",\"#69970f\",\"#001000f\",\"#52ae0f\",\"#21df0f\",\"#17e90f\",\"#04fc0f\",\"#001000f\",\"#21df0f\",\"#2ed20f\",\"#18e80f\",\"#649c0f\",\"#52ae0f\",\"#847c0f\",\"#52ae0f\",\"#5ba50f\",\"#16ea0f\",\"#29d70f\",\"#001000f\",\"#42be0f\",\"#15eb0f\",\"#09f70f\",\"#001000f\",\"#3dc30f\",\"#001000f\",\"#001000f\",\"#001000f\",\"#001000f\",\"#001000f\",\"#3ac60f\",\"#4ab60f\",\"#37c90f\",\"#3ac60f\",\"#001000f\",\"#001000f\",\"#18e80f\",\"#001000f\",\"#001000f\",\"#21df0f\",\"#29d70f\",\"#29d70f\",\"#21df0f\",\"#18e80f\",\"#001000f\",\"#001000f\",\"#001000f\",\"#2ed20f\",\"#0ef20f\",\"#001000f\",\"#06fa0f\",\"#639d0f\",\"#3bc50f\",\"#01ff0f\",\"#001000f\",\"#001000f\",\"#001000f\",\"#001000f\",\"#30d00f\",\"#001000f\",\"#31cf0f\",\"#52ae0f\",\"#001000f\",\"#001000f\",\"#3ac60f\",\"#31cf0f\",\"#0cf40f\",\"#02fe0f\",\"#001000f\",\"#29d70f\",\"#29d70f\",\"#4ab60f\",\"#18e80f\",\"#001000f\",\"#18e80f\",\"#10f00f\",\"#4bb50f\",\"#21df0f\",\"#001000f\",\"#29d70f\",\"#14ec0f\",\"#47b90f\",\"#31cf0f\",\"#0ef20f\",\"#001000f\",\"#29d70f\",\"#31cf0f\",\"#001000f\",\"#29d70f\",\"#18e80f\",\"#33cd0f\",\"#32ce0f\",\"#001000f\",\"#31cf0f\",\"#4cb40f\",\"#23dd0f\",\"#21df0f\",\"#19e70f\",\"#0bf50f\",\"#53ad0f\",\"#03fd0f\",\"#001000f\",\"#21df0f\",\"#001000f\",\"#001000f\",\"#21df0f\",\"#001000f\",\"#4ab60f\",\"#0ff10f\",\"#1de30f\",\"#001000f\",\"#21df0f\",\"#31cf0f\",\"#100000f\",\"#29d70f\",\"#2ed20f\",\"#2fd10f\",\"#4db30f\",\"#001000f\",\"#23dd0f\",\"#18e80f\",\"#001000f\",\"#18e80f\",\"#3ac60f\",\"#31cf0f\",\"#5ba50f\",\"#18e80f\",\"#42be0f\",\"#03fd0f\",\"#0af60f\",\"#847c0f\",\"#0af60f\",\"#001000f\",\"#001000f\",\"#21df0f\",\"#0cf40f\",\"#17e90f\",\"#21df0f\",\"#10f00f\",\"#001000f\",\"#18e80f\",\"#4ab60f\",\"#05fb0f\",\"#3ac60f\",\"#001000f\",\"#21df0f\",\"#21df0f\",\"#639d0f\",\"#18e80f\",\"#21df0f\",\"#42be0f\",\"#42be0f\",\"#29d70f\",\"#31cf0f\",\"#001000f\",\"#001000f\",\"#31cf0f\",\"#001000f\",\"#31cf0f\",\"#01ff0f\",\"#18e80f\",\"#38c80f\",\"#6f910f\",\"#0bf50f\",\"#31cf0f\",\"#18e80f\",\"#001000f\",\"#03fd0f\",\"#6d930f\",\"#001000f\",\"#21df0f\",\"#21df0f\",\"#44bc0f\",\"#18e80f\",\"#21df0f\",\"#18e80f\",\"#28d80f\",\"#42be0f\",\"#001000f\",\"#001000f\",\"#18e80f\",\"#07f90f\",\"#001000f\",\"#14ec0f\",\"#52ae0f\",\"#69970f\",\"#27d90f\",\"#001000f\",\"#54ac0f\",\"#29d70f\",\"#10f00f\",\"#19e70f\",\"#4ab60f\",\"#5ba50f\",\"#001000f\",\"#639d0f\",\"#05fb0f\",\"#001000f\",\"#19e70f\",\"#39c70f\",\"#21df0f\",\"#16ea0f\",\"#3bc50f\",\"#001000f\",\"#31cf0f\",\"#3ac60f\",\"#24dc0f\",\"#18e80f\",\"#001000f\",\"#1ae60f\",\"#001000f\",\"#0df30f\",\"#001000f\",\"#5ba50f\",\"#21df0f\",\"#0af60f\",\"#21df0f\",\"#29d70f\",\"#21df0f\",\"#001000f\",\"#3ac60f\",\"#659b0f\",\"#001000f\",\"#2bd50f\",\"#5ba50f\",\"#21df0f\",\"#001000f\",\"#001000f\",\"#001000f\",\"#1fe10f\",\"#48b80f\",\"#001000f\",\"#001000f\",\"#1ae60f\",\"#11ef0f\",\"#639d0f\",\"#21df0f\",\"#18e80f\",\"#03fd0f\",\"#001000f\",\"#2ed20f\",\"#21df0f\",\"#12ee0f\",\"#001000f\",\"#30d00f\",\"#29d70f\",\"#001000f\",\"#7f810f\",\"#916f0f\",\"#29d70f\",\"#42be0f\",\"#07f90f\",\"#3ac60f\",\"#03fd0f\",\"#14ec0f\",\"#29d70f\",\"#21df0f\",\"#29d70f\",\"#21df0f\",\"#43bd0f\",\"#24dc0f\",\"#738d0f\",\"#001000f\",\"#3ac60f\",\"#6b950f\",\"#21df0f\",\"#b64a0f\",\"#52ae0f\",\"#31cf0f\",\"#48b80f\",\"#20e00f\",\"#001000f\",\"#07f90f\",\"#08f80f\",\"#1de30f\",\"#001000f\",\"#001000f\",\"#52ae0f\",\"#001000f\",\"#18e80f\",\"#001000f\",\"#5fa10f\",\"#3ac60f\",\"#03fd0f\",\"#52ae0f\",\"#29d70f\",\"#3ac60f\",\"#001000f\",\"#29d70f\",\"#21df0f\",\"#52ae0f\",\"#001000f\",\"#12ee0f\",\"#01ff0f\",\"#18e80f\",\"#001000f\",\"#29d70f\",\"#18e80f\",\"#001000f\",\"#31cf0f\",\"#08f80f\",\"#0bf50f\",\"#31cf0f\",\"#001000f\",\"#68980f\",\"#3ac60f\",\"#21df0f\",\"#15eb0f\",\"#1be50f\",\"#001000f\",\"#001000f\",\"#31cf0f\",\"#0af60f\",\"#06fa0f\",\"#31cf0f\",\"#15eb0f\",\"#001000f\",\"#001000f\",\"#29d70f\",\"#001000f\",\"#15eb0f\",\"#31cf0f\",\"#001000f\",\"#41bf0f\",\"#4ab60f\",\"#42be0f\",\"#001000f\",\"#3ac60f\",\"#10f00f\",\"#0bf50f\",\"#18e80f\",\"#21df0f\",\"#42be0f\",\"#29d70f\",\"#0cf40f\",\"#29d70f\",\"#3ac60f\",\"#001000f\",\"#001000f\",\"#06fa0f\",\"#001000f\",\"#18e80f\",\"#22de0f\",\"#09f70f\",\"#0cf40f\",\"#001000f\",\"#001000f\",\"#001000f\",\"#2cd40f\",\"#02fe0f\",\"#4eb20f\",\"#22de0f\",\"#18e80f\",\"#001000f\",\"#4ab60f\",\"#001000f\",\"#34cc0f\",\"#29d70f\",\"#001000f\",\"#001000f\",\"#001000f\",\"#28d80f\",\"#29d70f\",\"#001000f\",\"#001000f\",\"#001000f\",\"#001000f\",\"#42be0f\",\"#32ce0f\",\"#1fe10f\",\"#10f00f\",\"#18e80f\",\"#31cf0f\",\"#28d80f\",\"#42be0f\",\"#4ab60f\",\"#43bd0f\",\"#001000f\",\"#02fe0f\",\"#1ae60f\",\"#37c90f\",\"#001000f\",\"#001000f\",\"#001000f\",\"#001000f\",\"#14ec0f\",\"#3ac60f\",\"#001000f\",\"#001000f\",\"#001000f\",\"#001000f\",\"#0df30f\",\"#14ec0f\",\"#001000f\",\"#4ab60f\",\"#21df0f\",\"#51af0f\",\"#11ef0f\",\"#03fd0f\",\"#30d00f\",\"#97690f\",\"#42be0f\",\"#2ad60f\",\"#001000f\",\"#28d80f\",\"#0ef20f\",\"#21df0f\",\"#42be0f\",\"#001000f\",\"#3ac60f\",\"#14ec0f\",\"#14ec0f\",\"#01ff0f\",\"#30d00f\",\"#001000f\",\"#639d0f\",\"#57a90f\",\"#31cf0f\",\"#02fe0f\",\"#0af60f\",\"#20e00f\",\"#001000f\",\"#54ac0f\",\"#001000f\",\"#18e80f\",\"#21df0f\",\"#06fa0f\",\"#31cf0f\",\"#001000f\",\"#05fb0f\",\"#001000f\",\"#0ef20f\",\"#001000f\",\"#11ef0f\",\"#3ac60f\",\"#21df0f\",\"#29d70f\",\"#857b0f\",\"#59a70f\",\"#001000f\",\"#26da0f\",\"#31cf0f\",\"#0df30f\",\"#13ed0f\",\"#001000f\",\"#4ab60f\",\"#17e90f\",\"#29d70f\",\"#001000f\",\"#21df0f\",\"#001000f\",\"#09f70f\",\"#5ba50f\",\"#44bc0f\",\"#21df0f\",\"#001000f\",\"#52ae0f\",\"#2fd10f\",\"#21df0f\",\"#52ae0f\",\"#001000f\",\"#001000f\",\"#04fc0f\",\"#21df0f\",\"#5ba50f\",\"#4ab60f\",\"#18e80f\",\"#b24e0f\",\"#001000f\",\"#0df30f\",\"#001000f\",\"#27d90f\",\"#001000f\",\"#29d70f\",\"#8c740f\",\"#24dc0f\",\"#001000f\",\"#001000f\",\"#14ec0f\",\"#b24e0f\",\"#07f90f\",\"#5ba50f\",\"#001000f\",\"#001000f\",\"#31cf0f\",\"#12ee0f\",\"#001000f\",\"#42be0f\",\"#21df0f\",\"#22de0f\",\"#1ae60f\",\"#4ab60f\",\"#001000f\",\"#21df0f\",\"#001000f\",\"#001000f\",\"#18e80f\",\"#001000f\",\"#15eb0f\",\"#18e80f\",\"#1ae60f\",\"#001000f\",\"#3ac60f\",\"#21df0f\",\"#42be0f\",\"#001000f\",\"#847c0f\",\"#31cf0f\",\"#21df0f\",\"#31cf0f\",\"#42be0f\",\"#001000f\",\"#13ed0f\",\"#1ce40f\",\"#29d70f\",\"#001000f\",\"#29d70f\",\"#1ce40f\",\"#18e80f\",\"#1de30f\",\"#43bd0f\",\"#31cf0f\",\"#3ac60f\",\"#001000f\",\"#001000f\",\"#18e80f\",\"#0df30f\",\"#001000f\",\"#31cf0f\",\"#001000f\",\"#1ae60f\",\"#001000f\",\"#21df0f\",\"#42be0f\",\"#6a960f\",\"#3ac60f\",\"#21df0f\",\"#001000f\",\"#001000f\",\"#001000f\",\"#639d0f\",\"#3dc30f\",\"#1ee20f\",\"#54ac0f\",\"#29d70f\",\"#2fd10f\",\"#25db0f\",\"#21df0f\",\"#1ee20f\",\"#001000f\",\"#21df0f\",\"#53ad0f\",\"#44bc0f\",\"#34cc0f\",\"#001000f\",\"#21df0f\",\"#29d70f\",\"#29d70f\",\"#11ef0f\",\"#001000f\",\"#02fe0f\",\"#001000f\",\"#4fb10f\",\"#001000f\",\"#68980f\",\"#001000f\",\"#001000f\",\"#06fa0f\",\"#3ac60f\",\"#31cf0f\",\"#01ff0f\",\"#001000f\",\"#8d730f\",\"#50b00f\",\"#12ee0f\",\"#10f00f\",\"#001000f\",\"#29d70f\",\"#001000f\",\"#21df0f\",\"#3ac60f\",\"#18e80f\",\"#21df0f\",\"#4ab60f\",\"#1be50f\",\"#001000f\",\"#2cd40f\",\"#1be50f\",\"#3ac60f\",\"#18e80f\",\"#09f70f\",\"#001000f\",\"#001000f\",\"#629e0f\",\"#18e80f\",\"#0df30f\",\"#837d0f\",\"#31cf0f\",\"#4ab60f\",\"#21df0f\",\"#001000f\",\"#28d80f\",\"#18e80f\",\"#6b950f\",\"#3ac60f\",\"#001000f\",\"#29d70f\",\"#001000f\",\"#4ab60f\",\"#18e80f\",\"#31cf0f\",\"#001000f\",\"#001000f\",\"#31cf0f\",\"#18e80f\",\"#001000f\",\"#20e00f\",\"#001000f\",\"#001000f\",\"#001000f\",\"#2ed20f\",\"#21df0f\",\"#3ac60f\",\"#001000f\",\"#18e80f\",\"#42be0f\",\"#001000f\",\"#4db30f\",\"#33cd0f\",\"#31cf0f\",\"#29d70f\",\"#001000f\",\"#18e80f\",\"#001000f\",\"#001000f\",\"#001000f\",\"#2bd50f\",\"#0cf40f\",\"#001000f\",\"#31cf0f\",\"#29d70f\",\"#21df0f\",\"#001000f\",\"#11ef0f\",\"#001000f\",\"#40c00f\",\"#05fb0f\",\"#46ba0f\",\"#8e720f\",\"#18e80f\",\"#21df0f\",\"#001000f\",\"#18e80f\",\"#42be0f\",\"#42be0f\",\"#18e80f\",\"#21df0f\",\"#3ac60f\",\"#2dd30f\",\"#001000f\",\"#42be0f\",\"#42be0f\",\"#52ae0f\",\"#001000f\",\"#27d90f\",\"#31cf0f\",\"#21df0f\",\"#8c740f\",\"#35cb0f\",\"#19e70f\",\"#3bc50f\",\"#5ba50f\",\"#21df0f\",\"#001000f\",\"#5ea20f\",\"#15eb0f\",\"#1de30f\",\"#001000f\",\"#13ed0f\",\"#29d70f\",\"#001000f\",\"#001000f\",\"#21df0f\",\"#001000f\",\"#29d70f\",\"#31cf0f\",\"#19e70f\",\"#001000f\",\"#09f70f\",\"#001000f\",\"#001000f\",\"#3ac60f\",\"#001000f\",\"#21df0f\",\"#2ad60f\",\"#8d730f\",\"#629e0f\",\"#43bd0f\",\"#639d0f\",\"#3ac60f\",\"#001000f\",\"#22de0f\",\"#42be0f\",\"#14ec0f\",\"#22de0f\",\"#02fe0f\",\"#001000f\",\"#4ab60f\",\"#18e80f\",\"#29d70f\",\"#001000f\",\"#20e00f\",\"#b64a0f\",\"#19e70f\",\"#21df0f\",\"#31cf0f\",\"#21df0f\",\"#001000f\",\"#001000f\",\"#05fb0f\",\"#56aa0f\",\"#001000f\",\"#15eb0f\",\"#001000f\",\"#21df0f\",\"#2dd30f\",\"#001000f\",\"#3ac60f\",\"#18e80f\",\"#001000f\",\"#001000f\",\"#29d70f\",\"#31cf0f\",\"#09f70f\",\"#34cc0f\",\"#06fa0f\",\"#10f00f\",\"#001000f\",\"#001000f\",\"#31cf0f\",\"#54ac0f\",\"#29d70f\",\"#001000f\",\"#5ba50f\",\"#21df0f\",\"#42be0f\",\"#03fd0f\",\"#58a80f\",\"#07f90f\",\"#29d70f\",\"#001000f\",\"#001000f\",\"#1be50f\",\"#001000f\",\"#16ea0f\",\"#001000f\",\"#31cf0f\",\"#639d0f\",\"#21df0f\",\"#29d70f\",\"#a8580f\",\"#001000f\",\"#31cf0f\",\"#001000f\",\"#001000f\",\"#001000f\",\"#1be50f\",\"#3ac60f\",\"#18e80f\",\"#001000f\",\"#52ae0f\",\"#001000f\",\"#857b0f\",\"#001000f\",\"#18e80f\",\"#3ac60f\",\"#11ef0f\",\"#001000f\",\"#01ff0f\",\"#52ae0f\",\"#001000f\",\"#15eb0f\",\"#10f00f\",\"#001000f\",\"#20e00f\",\"#4ab60f\",\"#02fe0f\",\"#29d70f\",\"#4ab60f\",\"#31cf0f\",\"#42be0f\",\"#11ef0f\",\"#21df0f\",\"#43bd0f\",\"#30d00f\",\"#001000f\",\"#10f00f\",\"#18e80f\",\"#28d80f\",\"#4ab60f\",\"#001000f\",\"#31cf0f\",\"#001000f\",\"#3cc40f\",\"#2dd30f\",\"#58a80f\",\"#001000f\",\"#18e80f\",\"#001000f\",\"#18e80f\",\"#5ba50f\",\"#001000f\",\"#5ba50f\",\"#21df0f\",\"#001000f\",\"#18e80f\",\"#18e80f\",\"#29d70f\",\"#31cf0f\",\"#29d70f\",\"#27d90f\",\"#42be0f\",\"#001000f\",\"#42be0f\",\"#23dd0f\",\"#52ae0f\",\"#001000f\",\"#4ab60f\",\"#31cf0f\",\"#2ed20f\",\"#001000f\",\"#46ba0f\",\"#001000f\",\"#12ee0f\",\"#001000f\",\"#21df0f\",\"#31cf0f\",\"#3ac60f\",\"#001000f\",\"#10f00f\",\"#52ae0f\",\"#4ab60f\",\"#001000f\",\"#31cf0f\",\"#001000f\",\"#01ff0f\",\"#36ca0f\",\"#4ab60f\",\"#52ae0f\",\"#5ba50f\",\"#29d70f\",\"#37c90f\",\"#18e80f\",\"#01ff0f\",\"#4ab60f\",\"#0bf50f\",\"#2ed20f\",\"#6b950f\",\"#1ee20f\",\"#10f00f\",\"#01ff0f\",\"#001000f\",\"#001000f\",\"#48b80f\",\"#001000f\",\"#59a70f\",\"#21df0f\",\"#52ae0f\",\"#06fa0f\",\"#001000f\",\"#42be0f\",\"#001000f\",\"#21df0f\",\"#21df0f\",\"#31cf0f\",\"#001000f\",\"#18e80f\",\"#001000f\",\"#001000f\",\"#18e80f\",\"#30d00f\",\"#5da30f\",\"#29d70f\",\"#01ff0f\",\"#42be0f\",\"#4ab60f\",\"#52ae0f\",\"#001000f\",\"#001000f\",\"#21df0f\",\"#0df30f\",\"#29d70f\",\"#18e80f\",\"#05fb0f\",\"#001000f\",\"#21df0f\",\"#3ac60f\",\"#21df0f\",\"#4ab60f\",\"#14ec0f\",\"#18e80f\",\"#18e80f\",\"#4ab60f\",\"#001000f\",\"#001000f\",\"#42be0f\",\"#001000f\",\"#001000f\",\"#42be0f\",\"#001000f\",\"#04fc0f\",\"#18e80f\",\"#18e80f\",\"#001000f\",\"#19e70f\",\"#18e80f\",\"#2bd50f\",\"#29d70f\",\"#5da30f\",\"#07f90f\",\"#001000f\",\"#14ec0f\",\"#31cf0f\",\"#50b00f\",\"#01ff0f\",\"#21df0f\",\"#001000f\",\"#29d70f\",\"#26da0f\",\"#04fc0f\",\"#21df0f\",\"#18e80f\",\"#001000f\",\"#44bc0f\",\"#21df0f\",\"#1ce40f\",\"#21df0f\",\"#3ac60f\",\"#40c00f\",\"#3ac60f\",\"#42be0f\",\"#70900f\",\"#18e80f\",\"#001000f\",\"#10f00f\",\"#21df0f\",\"#1be50f\",\"#18e80f\",\"#1be50f\",\"#17e90f\",\"#3fc10f\",\"#21df0f\",\"#001000f\",\"#42be0f\",\"#001000f\",\"#4ab60f\",\"#29d70f\",\"#31cf0f\",\"#33cd0f\",\"#001000f\",\"#21df0f\",\"#21df0f\",\"#21df0f\",\"#001000f\",\"#29d70f\",\"#03fd0f\",\"#20e00f\",\"#001000f\",\"#27d90f\",\"#3dc30f\",\"#29d70f\",\"#0bf50f\",\"#001000f\",\"#07f90f\",\"#29d70f\",\"#03fd0f\",\"#29d70f\",\"#30d00f\",\"#4db30f\",\"#18e80f\",\"#40c00f\",\"#001000f\",\"#001000f\",\"#29d70f\",\"#001000f\",\"#30d00f\",\"#04fc0f\",\"#15eb0f\",\"#2ad60f\",\"#3ac60f\",\"#3ac60f\",\"#21df0f\",\"#21df0f\",\"#001000f\",\"#18e80f\",\"#001000f\",\"#001000f\",\"#1fe10f\",\"#18e80f\",\"#33cd0f\",\"#5ba50f\",\"#0ff10f\",\"#001000f\",\"#001000f\",\"#001000f\",\"#17e90f\",\"#001000f\",\"#4cb40f\",\"#0ff10f\",\"#01ff0f\",\"#b7490f\",\"#001000f\",\"#001000f\",\"#4ab60f\",\"#3ac60f\",\"#29d70f\",\"#001000f\",\"#001000f\",\"#001000f\",\"#18e80f\",\"#001000f\",\"#18e80f\",\"#18e80f\",\"#001000f\",\"#1de30f\",\"#001000f\",\"#29d70f\",\"#57a90f\",\"#001000f\",\"#4fb10f\",\"#32ce0f\",\"#847c0f\",\"#3ec20f\",\"#29d70f\",\"#18e80f\",\"#5ba50f\",\"#001000f\",\"#001000f\",\"#001000f\",\"#001000f\",\"#31cf0f\",\"#001000f\",\"#29d70f\",\"#51af0f\",\"#18e80f\",\"#21df0f\",\"#42be0f\",\"#23dd0f\",\"#51af0f\",\"#ad530f\",\"#847c0f\",\"#18e80f\",\"#14ec0f\",\"#001000f\",\"#001000f\",\"#21df0f\",\"#14ec0f\",\"#2bd50f\",\"#04fc0f\",\"#001000f\",\"#31cf0f\",\"#21df0f\",\"#001000f\",\"#31cf0f\",\"#56aa0f\",\"#7c840f\",\"#25db0f\",\"#001000f\",\"#7c840f\",\"#29d70f\",\"#21df0f\",\"#3ac60f\",\"#001000f\",\"#001000f\",\"#14ec0f\",\"#001000f\",\"#37c90f\",\"#001000f\",\"#1ee20f\",\"#20e00f\",\"#001000f\",\"#3bc50f\",\"#0df30f\",\"#18e80f\",\"#21df0f\",\"#001000f\",\"#40c00f\",\"#29d70f\",\"#39c70f\",\"#001000f\",\"#18e80f\",\"#3ec20f\",\"#3ac60f\",\"#18e80f\",\"#001000f\",\"#09f70f\",\"#21df0f\",\"#1de30f\",\"#09f70f\",\"#001000f\",\"#1ee20f\",\"#3ac60f\",\"#78880f\",\"#001000f\",\"#4cb40f\",\"#21df0f\",\"#25db0f\",\"#18e80f\",\"#001000f\",\"#55ab0f\",\"#29d70f\",\"#4fb10f\",\"#001000f\",\"#42be0f\",\"#31cf0f\",\"#29d70f\",\"#001000f\",\"#31cf0f\",\"#001000f\",\"#29d70f\",\"#0ef20f\",\"#001000f\",\"#29d70f\",\"#18e80f\",\"#5aa60f\",\"#001000f\",\"#45bb0f\",\"#29d70f\",\"#3ac60f\",\"#4ab60f\",\"#04fc0f\",\"#42be0f\",\"#0ff10f\",\"#31cf0f\",\"#02fe0f\",\"#5ba50f\",\"#001000f\",\"#2ed20f\",\"#001000f\",\"#16ea0f\",\"#21df0f\",\"#15eb0f\",\"#06fa0f\",\"#13ed0f\",\"#001000f\",\"#10f00f\",\"#001000f\",\"#1be50f\",\"#16ea0f\",\"#001000f\",\"#29d70f\",\"#19e70f\",\"#67990f\",\"#5fa10f\",\"#15eb0f\",\"#31cf0f\",\"#1ae60f\",\"#06fa0f\",\"#001000f\",\"#001000f\",\"#001000f\",\"#31cf0f\",\"#50b00f\",\"#001000f\",\"#1be50f\",\"#21df0f\",\"#3ec20f\",\"#639d0f\",\"#10f00f\",\"#001000f\",\"#001000f\",\"#08f80f\",\"#21df0f\",\"#0df30f\",\"#31cf0f\",\"#05fb0f\",\"#b34d0f\",\"#5ba50f\",\"#001000f\",\"#1fe10f\",\"#21df0f\",\"#01ff0f\",\"#18e80f\",\"#001000f\",\"#31cf0f\",\"#659b0f\",\"#52ae0f\",\"#17e90f\",\"#0ef20f\",\"#18e80f\",\"#001000f\",\"#3ec20f\",\"#29d70f\",\"#001000f\",\"#001000f\",\"#001000f\",\"#21df0f\",\"#001000f\",\"#001000f\",\"#1ce40f\",\"#31cf0f\",\"#13ed0f\",\"#001000f\",\"#001000f\",\"#30d00f\",\"#001000f\",\"#42be0f\",\"#35cb0f\",\"#4cb40f\",\"#001000f\",\"#0df30f\",\"#10f00f\",\"#16ea0f\",\"#001000f\",\"#08f80f\",\"#18e80f\",\"#42be0f\",\"#001000f\",\"#001000f\",\"#10f00f\",\"#21df0f\",\"#26da0f\",\"#001000f\",\"#07f90f\",\"#2ed20f\",\"#001000f\",\"#14ec0f\",\"#24dc0f\",\"#827e0f\",\"#001000f\",\"#79870f\",\"#3ac60f\",\"#001000f\",\"#29d70f\",\"#001000f\",\"#18e80f\",\"#4bb50f\",\"#25db0f\",\"#4ab60f\",\"#001000f\",\"#06fa0f\",\"#1de30f\",\"#18e80f\",\"#45bb0f\",\"#29d70f\",\"#2ad60f\",\"#2ed20f\",\"#001000f\",\"#001000f\",\"#001000f\",\"#24dc0f\",\"#649c0f\",\"#52ae0f\",\"#31cf0f\",\"#001000f\",\"#13ed0f\",\"#001000f\",\"#3fc10f\",\"#21df0f\",\"#2ed20f\",\"#31cf0f\",\"#21df0f\",\"#18e80f\",\"#6b950f\",\"#639d0f\",\"#05fb0f\",\"#14ec0f\",\"#4ab60f\",\"#0ff10f\",\"#1be50f\",\"#4cb40f\",\"#001000f\",\"#001000f\",\"#3ac60f\",\"#31cf0f\",\"#001000f\",\"#01ff0f\",\"#21df0f\",\"#001000f\",\"#31cf0f\",\"#27d90f\",\"#001000f\",\"#001000f\",\"#29d70f\",\"#44bc0f\",\"#0cf40f\",\"#38c80f\",\"#001000f\",\"#4bb50f\",\"#001000f\",\"#54ac0f\",\"#10f00f\",\"#001000f\",\"#21df0f\",\"#001000f\",\"#18e80f\",\"#18e80f\",\"#001000f\",\"#4ab60f\",\"#3ac60f\",\"#18e80f\",\"#33cd0f\",\"#29d70f\",\"#6e920f\",\"#18e80f\",\"#03fd0f\",\"#001000f\",\"#31cf0f\",\"#21df0f\",\"#001000f\",\"#21df0f\",\"#3ac60f\",\"#09f70f\",\"#001000f\",\"#37c90f\",\"#21df0f\",\"#1fe10f\",\"#001000f\",\"#001000f\",\"#45bb0f\",\"#3ac60f\",\"#29d70f\",\"#21df0f\",\"#001000f\",\"#001000f\",\"#0af60f\",\"#3ac60f\",\"#001000f\",\"#29d70f\",\"#001000f\",\"#001000f\",\"#10f00f\",\"#5aa60f\",\"#05fb0f\",\"#2dd30f\",\"#001000f\",\"#31cf0f\",\"#21df0f\",\"#21df0f\",\"#639d0f\",\"#21df0f\",\"#29d70f\",\"#31cf0f\",\"#001000f\",\"#18e80f\",\"#001000f\",\"#001000f\",\"#18e80f\",\"#52ae0f\",\"#29d70f\",\"#3ac60f\",\"#001000f\",\"#001000f\",\"#001000f\",\"#0ef20f\",\"#29d70f\",\"#31cf0f\",\"#21df0f\",\"#001000f\",\"#3ac60f\",\"#001000f\",\"#18e80f\",\"#001000f\",\"#001000f\",\"#001000f\",\"#42be0f\",\"#21df0f\",\"#29d70f\",\"#25db0f\",\"#29d70f\",\"#5ea20f\",\"#41bf0f\",\"#1fe10f\",\"#21df0f\",\"#0cf40f\",\"#52ae0f\",\"#5ba50f\",\"#001000f\",\"#29d70f\",\"#40c00f\",\"#001000f\",\"#001000f\",\"#3ac60f\",\"#001000f\",\"#52ae0f\",\"#001000f\",\"#2ed20f\",\"#001000f\",\"#18e80f\",\"#26da0f\",\"#17e90f\",\"#21df0f\",\"#29d70f\",\"#02fe0f\",\"#21df0f\",\"#47b90f\",\"#31cf0f\",\"#18e80f\",\"#001000f\",\"#12ee0f\",\"#3ac60f\",\"#001000f\",\"#001000f\",\"#29d70f\",\"#001000f\",\"#57a90f\",\"#3ac60f\",\"#0df30f\",\"#0bf50f\",\"#001000f\",\"#57a90f\",\"#3bc50f\",\"#31cf0f\",\"#29d70f\",\"#18e80f\",\"#758b0f\",\"#001000f\",\"#1be50f\",\"#001000f\",\"#29d70f\",\"#4ab60f\",\"#29d70f\",\"#21df0f\",\"#001000f\",\"#13ed0f\",\"#21df0f\",\"#001000f\",\"#4ab60f\",\"#16ea0f\",\"#001000f\",\"#001000f\",\"#29d70f\",\"#001000f\",\"#21df0f\",\"#21df0f\",\"#31cf0f\",\"#42be0f\",\"#001000f\",\"#31cf0f\",\"#07f90f\",\"#31cf0f\",\"#30d00f\",\"#001000f\",\"#001000f\",\"#21df0f\",\"#13ed0f\",\"#52ae0f\",\"#2dd30f\",\"#001000f\",\"#001000f\",\"#20e00f\",\"#3ac60f\",\"#22de0f\",\"#8a760f\",\"#52ae0f\",\"#001000f\",\"#3ac60f\",\"#001000f\",\"#21df0f\",\"#001000f\",\"#0bf50f\",\"#42be0f\",\"#001000f\",\"#001000f\",\"#4cb40f\",\"#3ac60f\",\"#3ac60f\",\"#27d90f\",\"#03fd0f\",\"#001000f\",\"#718f0f\",\"#47b90f\",\"#001000f\",\"#21df0f\",\"#001000f\",\"#3ec20f\",\"#001000f\",\"#87790f\",\"#31cf0f\",\"#31cf0f\",\"#18e80f\",\"#001000f\",\"#6b950f\",\"#5ca40f\",\"#21df0f\",\"#001000f\",\"#1ae60f\",\"#0bf50f\",\"#21df0f\",\"#1de30f\",\"#0df30f\",\"#1fe10f\",\"#001000f\",\"#001000f\",\"#001000f\",\"#001000f\",\"#12ee0f\",\"#1ee20f\",\"#639d0f\",\"#18e80f\",\"#03fd0f\",\"#001000f\",\"#21df0f\",\"#15eb0f\",\"#3ac60f\",\"#0bf50f\",\"#5aa60f\",\"#18e80f\",\"#15eb0f\",\"#001000f\",\"#18e80f\",\"#01ff0f\",\"#24dc0f\",\"#18e80f\",\"#43bd0f\",\"#001000f\",\"#001000f\",\"#001000f\",\"#29d70f\",\"#09f70f\",\"#001000f\",\"#001000f\",\"#16ea0f\",\"#04fc0f\",\"#4ab60f\",\"#26da0f\",\"#001000f\",\"#16ea0f\",\"#3ac60f\",\"#2ed20f\",\"#001000f\",\"#22de0f\",\"#001000f\",\"#21df0f\",\"#4ab60f\",\"#3ac60f\",\"#30d00f\",\"#29d70f\",\"#18e80f\",\"#42be0f\",\"#001000f\",\"#3dc30f\",\"#29d70f\",\"#18e80f\",\"#001000f\",\"#04fc0f\",\"#18e80f\",\"#36ca0f\",\"#42be0f\",\"#21df0f\",\"#51af0f\",\"#18e80f\",\"#956b0f\",\"#001000f\",\"#08f80f\",\"#3ac60f\",\"#5ba50f\",\"#40c00f\",\"#5ba50f\",\"#639d0f\",\"#23dd0f\",\"#001000f\",\"#35cb0f\",\"#29d70f\",\"#001000f\",\"#001000f\",\"#11ef0f\",\"#57a90f\",\"#29d70f\",\"#05fb0f\",\"#8d730f\",\"#35cb0f\",\"#3dc30f\",\"#0ef20f\",\"#3ac60f\",\"#1ae60f\",\"#16ea0f\",\"#1be50f\",\"#001000f\",\"#34cc0f\",\"#17e90f\",\"#001000f\",\"#37c90f\",\"#0af60f\",\"#001000f\",\"#21df0f\",\"#29d70f\",\"#11ef0f\",\"#4ab60f\",\"#001000f\",\"#31cf0f\",\"#10f00f\",\"#3ac60f\",\"#05fb0f\",\"#20e00f\",\"#748c0f\",\"#21df0f\",\"#001000f\",\"#21df0f\",\"#001000f\",\"#001000f\",\"#3cc40f\",\"#2ed20f\",\"#21df0f\",\"#41bf0f\",\"#21df0f\",\"#001000f\",\"#29d70f\",\"#001000f\",\"#001000f\",\"#0df30f\",\"#001000f\",\"#31cf0f\",\"#25db0f\",\"#21df0f\",\"#27d90f\",\"#08f80f\",\"#25db0f\",\"#21df0f\",\"#b8480f\",\"#03fd0f\",\"#001000f\",\"#42be0f\",\"#2cd40f\",\"#4ab60f\",\"#001000f\",\"#52ae0f\",\"#001000f\",\"#001000f\",\"#31cf0f\",\"#19e70f\",\"#3ac60f\",\"#001000f\",\"#001000f\",\"#5ba50f\",\"#21df0f\",\"#001000f\",\"#21df0f\",\"#748c0f\",\"#649c0f\",\"#001000f\",\"#3ac60f\",\"#3ac60f\",\"#3ac60f\",\"#08f80f\",\"#29d70f\",\"#21df0f\",\"#1ce40f\",\"#31cf0f\",\"#31cf0f\",\"#28d80f\",\"#08f80f\",\"#52ae0f\",\"#29d70f\",\"#54ac0f\",\"#18e80f\",\"#29d70f\",\"#04fc0f\",\"#5ba50f\",\"#29d70f\",\"#3ac60f\",\"#29d70f\",\"#52ae0f\",\"#03fd0f\",\"#639d0f\",\"#18e80f\",\"#08f80f\",\"#02fe0f\",\"#31cf0f\",\"#1ee20f\",\"#001000f\",\"#21df0f\",\"#001000f\",\"#37c90f\",\"#18e80f\",\"#21df0f\",\"#18e80f\",\"#60a00f\",\"#31cf0f\",\"#2fd10f\",\"#4ab60f\",\"#639d0f\",\"#19e70f\",\"#29d70f\",\"#21df0f\",\"#31cf0f\",\"#5aa60f\",\"#001000f\",\"#3ac60f\",\"#46ba0f\",\"#21df0f\",\"#001000f\",\"#4ab60f\",\"#21df0f\",\"#001000f\",\"#31cf0f\",\"#21df0f\",\"#4ab60f\",\"#001000f\",\"#001000f\",\"#001000f\",\"#3ac60f\",\"#001000f\",\"#27d90f\",\"#05fb0f\",\"#54ac0f\",\"#09f70f\",\"#5fa10f\",\"#001000f\",\"#21df0f\",\"#4ab60f\",\"#5ba50f\",\"#21df0f\",\"#0af60f\",\"#23dd0f\",\"#18e80f\",\"#1fe10f\",\"#18e80f\",\"#001000f\",\"#44bc0f\",\"#2fd10f\",\"#3ac60f\",\"#2cd40f\",\"#001000f\",\"#21df0f\",\"#18e80f\",\"#21df0f\",\"#001000f\",\"#21df0f\",\"#21df0f\",\"#14ec0f\",\"#28d80f\",\"#10f00f\",\"#29d70f\",\"#02fe0f\",\"#001000f\",\"#0df30f\",\"#1de30f\",\"#18e80f\",\"#001000f\",\"#1be50f\",\"#52ae0f\",\"#001000f\",\"#001000f\",\"#10f00f\",\"#21df0f\",\"#5ba50f\",\"#24dc0f\",\"#01ff0f\",\"#46ba0f\",\"#42be0f\",\"#001000f\",\"#29d70f\",\"#001000f\",\"#001000f\",\"#31cf0f\",\"#21df0f\",\"#21df0f\",\"#001000f\",\"#42be0f\",\"#18e80f\",\"#3cc40f\",\"#31cf0f\",\"#50b00f\",\"#001000f\",\"#001000f\",\"#10f00f\",\"#2fd10f\",\"#52ae0f\",\"#6e920f\",\"#2ad60f\",\"#29d70f\",\"#29d70f\",\"#001000f\",\"#7c840f\",\"#001000f\",\"#001000f\",\"#001000f\",\"#3cc40f\",\"#42be0f\",\"#768a0f\",\"#18e80f\",\"#29d70f\",\"#2dd30f\",\"#22de0f\",\"#768a0f\",\"#56aa0f\",\"#1be50f\",\"#001000f\",\"#18e80f\",\"#4ab60f\",\"#001000f\",\"#18e80f\",\"#001000f\",\"#21df0f\",\"#18e80f\",\"#29d70f\",\"#18e80f\",\"#001000f\",\"#2ed20f\",\"#001000f\",\"#18e80f\",\"#33cd0f\",\"#21df0f\",\"#31cf0f\",\"#001000f\"],\"x\":[8000,0,8348,4481,0,6533,3979,34,2212,10000,8000,3000,3395,0,4000,4000,3156,10000,8000,8000,0,2533,0,0,1262,6313,9000,0,9195,3707,0,0,1685,7000,6000,8648,4000,0,3433,9076,1346,0,5000,4000,8000,4000,5593,0,5101,0,9000,5429,3000,8242,0,3000,3000,3000,0,3532,7000,14701,5000,8445,4351,4000,6000,10000,0,3722,7000,6000,6000,281,553,0,5215,0,4118,0,11000,2000,4000,0,2474,0,0,3000,4000,3000,5000,7711,0,0,4000,5124,0,947,4000,4471,7535,0,0,6000,0,2275,1326,0,0,3000,4219,2943,2685,0,6000,13519,617,0,4000,0,3000,0,10000,9088,0,0,4000,8000,0,2000,2413,3000,2769,15097,5042,0,11097,0,0,0,4000,6000,0,4526,3000,5760,4000,0,12306,6687,3681,8942,7000,358,4444,0,0,3000,3886,1551,771,0,5000,12688,0,10000,4000,2869,523,0,4000,5588,3000,12154,10000,16000,10000,11000,2668,5017,0,8000,2641,1109,0,7400,0,0,0,0,0,7000,9000,6692,7062,0,0,3000,0,0,4000,5000,5000,4000,3000,0,0,0,5582,1738,0,737,12000,7212,132,0,0,0,0,5845,0,6000,10000,0,118,7000,6000,1544,262,0,5000,5000,9000,3000,0,2943,1942,9060,4000,0,5000,2503,8574,6000,1768,0,5000,6000,90,5000,3000,6197,6070,0,6000,9261,4281,4000,3076,1396,10035,415,0,4000,0,0,4000,0,9000,1883,3513,0,4000,6000,30853,5000,5629,5673,9309,0,4224,3000,0,3000,7000,6000,11000,3000,8000,462,1206,16000,1290,0,0,4000,1531,2878,4000,2000,0,3000,9000,705,7000,0,4000,4000,11936,3000,4000,8000,8000,5000,6000,0,0,6000,0,5906,226,3000,6802,13483,1379,6000,3000,0,412,13190,0,4000,4000,8292,3000,4000,2948,4840,8000,0,0,3000,868,0,2482,10000,12749,4746,0,10147,5000,2000,3047,9000,11000,0,12000,656,57,3040,6921,4000,2757,7177,38,6000,7000,4354,3000,0,3141,0,1613,0,11000,4000,1303,4000,5000,4000,0,7000,12196,0,5282,11000,4000,0,0,0,3794,8794,0,0,3143,2152,12001,4000,3000,384,0,5604,4000,2195,0,5786,5000,0,15348,17536,5000,8000,916,7000,369,2486,5000,4012,5000,4000,8129,4397,13873,0,7000,12933,4000,22000,9986,6000,8717,3881,0,958,1053,3498,0,0,9995,0,3000,0,11486,7000,461,10000,5000,7000,0,5000,4056,10000,0,2205,227,3000,0,5000,2969,0,6000,1014,1382,6000,0,12638,7000,4000,2598,3267,0,0,6000,1259,793,6000,2567,0,0,5000,0,2532,6000,0,7848,9003,8000,0,7000,1976,1444,3000,4000,8000,5000,1530,5000,7000,0,0,733,0,3000,4103,1132,1530,0,0,0,5347,335,9509,4164,3000,0,9000,0,6385,5000,0,0,0,4935,5000,0,0,0,15,8000,6129,3827,2000,3000,6000,4871,8000,9000,8193,0,246,3192,6719,0,0,0,0,2485,7000,0,0,0,0,1573,2467,0,9000,4000,9853,2104,430,5840,18205,8000,5125,0,4917,1742,4000,8000,0,7000,2483,2447,232,5822,0,11983,10552,6000,261,1258,3934,0,10183,0,3000,4000,746,6000,0,704,0,1700,0,2059,7000,4000,5000,16076,10787,0,4697,6000,1645,2292,0,9000,2846,5000,0,4000,0,1191,11000,8266,4000,0,10000,5762,4088,10000,0,0,600,4000,11000,9000,3000,21524,0,1617,0,4738,0,5000,16904,4359,0,86,2518,21556,863,11000,0,0,6000,2234,0,8000,4090,4210,3249,8982,0,4000,0,0,3000,0,2626,3000,3205,0,7000,4000,8000,0,16000,6000,4000,6000,8000,0,2308,3488,5000,0,5000,3471,3000,3588,8076,6000,7000,0,0,3000,1683,0,6000,0,3206,0,4000,8000,12874,7000,4000,0,0,0,12000,7459,3616,10207,5000,5668,4506,4000,3657,0,4000,10118,8249,6291,0,4000,5000,4973,2130,0,281,0,9613,0,12553,0,0,795,7089,6000,140,0,17064,9644,2196,2000,0,5000,0,4000,7000,3000,4000,9000,3357,0,5353,3353,7000,3000,1140,0,0,11824,2921,1676,15808,6000,9000,4000,0,4867,3000,12934,7000,0,5000,0,8968,3000,6000,0,0,6000,3000,0,3952,0,0,0,5642,4000,7000,0,3000,8000,0,9371,6200,5941,5000,0,2927,0,0,0,5246,1505,0,6000,5000,4000,0,2073,0,7759,644,8525,17213,3000,4000,0,3000,8000,8000,3000,4000,7000,5436,0,8000,8000,10000,0,4716,6000,4000,16958,6448,3122,7171,11000,4000,0,11408,2563,3571,0,2317,5000,0,0,4000,2,5000,6000,3122,0,1156,0,0,7000,0,4000,5068,17000,11823,8100,12019,7000,0,4127,8000,2432,4191,312,0,9000,3000,5000,0,3941,22000,3050,4000,6000,4000,0,0,617,10411,0,2558,0,4077,5536,0,7000,3000,0,0,5000,6000,1135,6297,794,2000,0,0,6000,10206,5000,0,11000,4000,8048,423,10625,947,5000,0,0,3322,0,2683,0,6000,12000,4000,4942,20287,0,6000,0,0,0,3333,7000,3000,0,10000,0,16076,0,3000,7000,2101,0,192,10000,0,2588,1963,0,3953,9000,353,5000,9000,6000,8000,2061,4000,8134,5821,0,2038,3000,4863,9000,0,6000,0,7256,5424,10614,0,3000,0,3000,11000,0,11000,4000,0,3000,3000,5000,6000,5000,4715,8000,0,8000,4265,10000,0,9000,6000,5632,49,8453,0,2225,0,4000,6000,7000,0,2000,10000,9000,0,6000,0,144,6518,9000,10000,11000,5000,6728,2989,168,8928,1344,5583,13000,3694,1975,236,0,0,8743,0,10795,4000,9892,798,0,8000,0,4000,4000,6000,0,3000,0,0,3000,5881,11225,5000,215,8000,9000,10000,0,0,4000,1574,4973,3000,703,0,4000,7000,4000,9016,2456,3000,3000,9027,0,0,7992,0,0,8000,0,562,3000,3000,0,3058,3000,5206,5000,11218,964,0,2459,6000,9762,139,4000,0,5000,4641,494,4000,3000,0,8234,4000,3438,4000,7000,7830,7000,8000,13613,3000,0,2000,4000,3327,3000,3283,2885,7680,4000,0,8000,0,8955,5000,6000,6210,0,4000,4000,4000,0,5000,470,3901,0,4737,7439,5000,1406,0,862,5000,480,5000,5886,9352,3000,7723,0,0,5000,0,5851,503,2591,5090,7000,7000,4000,4000,0,3000,0,0,3840,3000,6235,11000,1901,0,0,0,2875,0,9260,1922,154,22074,0,0,9000,7000,5000,0,38,0,3000,0,3000,3000,0,3506,0,5000,10497,0,9535,6135,16023,7577,5000,3000,11000,0,0,0,0,6000,0,5000,9774,3000,4000,8000,4273,9809,20970,15955,3000,2486,0,0,4000,2422,5280,568,0,6000,4000,0,6000,10457,15000,4546,0,14978,5000,4000,7000,0,0,2427,0,6687,0,3700,3932,0,7136,1618,3000,4000,0,7746,5000,6930,0,3000,7474,7000,3000,0,1085,4000,3609,1172,0,3682,7000,14575,0,9270,4000,4568,3000,0,10279,5000,9555,0,8000,6000,5000,0,5960,0,5000,1738,0,5000,3000,10896,0,8368,5000,7000,9000,541,8000,1918,6000,343,11000,0,5593,0,2724,4000,2605,759,2352,0,2000,0,3296,2760,0,5000,3086,12419,11451,2622,6000,3217,756,0,0,0,6000,9648,0,3357,4000,7553,12000,2000,0,0,971,4000,1653,6000,696,21671,11076,0,3811,4000,183,3000,0,6000,12262,9957,2779,1746,3000,0,7581,5000,0,0,0,4000,0,0,3485,6000,2398,0,0,5832,0,8000,6389,9265,0,1584,2000,2684,0,1013,3000,8000,0,0,2047,4000,4627,0,853,5661,0,2514,4379,15753,0,14695,7000,0,5000,0,3000,9066,4470,9000,0,742,3516,3000,8342,5000,5105,5587,0,0,0,4371,12132,10000,5998,0,2333,0,7616,4000,5646,6000,4000,3000,13000,12000,658,2507,9000,1841,3266,9245,0,0,7000,6000,0,167,4000,0,6000,4785,0,24,5000,8212,1511,6828,0,9052,0,10177,2020,0,4000,0,3000,2936,0,9000,7000,3000,6153,5000,13309,3000,426,0,6000,4000,0,4000,7000,1127,0,6656,4000,3777,0,0,8402,7000,5000,4000,0,0,1252,7000,0,5000,0,0,2034,10874,629,5512,0,6000,4000,4000,12000,4067,5000,6000,0,3000,0,0,3000,10000,4947,7000,0,0,0,1770,5000,6000,4000,0,7000,0,3000,0,0,0,8000,4000,5000,4574,5000,11353,7945,3824,4000,1477,10000,11000,0,5000,7724,0,0,7000,0,10000,0,5620,0,3000,4639,2849,4000,5000,317,4000,8620,6000,3000,0,2178,7000,0,0,5000,0,10580,7000,1653,1405,0,10564,7202,5909,5000,3000,14170,0,3359,0,5000,9000,5000,4000,0,2361,4000,0,9029,2696,0,0,5000,0,4000,4000,6000,8000,0,6000,921,6000,5810,0,0,4000,2344,10000,5516,0,0,3926,7000,4209,16636,10000,0,7000,0,4000,0,1388,8000,0,0,9267,7000,7000,4762,391,0,13729,8581,0,4000,0,7475,0,16284,6000,6000,3000,0,13000,11113,4000,0,3196,1408,4000,3567,1592,3764,0,0,0,0,2276,3669,12000,3000,459,0,4000,2554,7000,1390,10947,3000,2576,0,3000,157,4391,3000,8165,0,0,0,5000,1090,0,0,2763,556,9000,4617,0,2717,7000,5641,0,4202,0,4000,9000,7034,5800,5000,3000,8000,115,7433,5000,3000,0,508,3000,6549,8000,4000,9819,3000,18050,0,1053,7000,11067,7727,11000,12000,4309,0,6411,5000,0,0,2123,10555,5000,606,17000,6416,7409,1689,7000,3247,2655,3290,0,6383,2872,0,6663,1284,0,4000,5000,2120,9000,0,6000,2000,7000,678,3869,14000,4000,0,4000,0,0,7238,5601,4000,7935,4000,0,5000,0,0,1573,0,6000,4567,4035,4820,1077,4523,4000,22278,422,0,8000,5412,9000,0,10000,0,0,6000,3082,7000,0,0,11000,4000,0,4000,14000,12084,0,7000,7000,7000,1076,5000,4000,3403,6000,6000,4918,972,10000,5000,10160,3000,5000,567,11000,5000,7000,5000,10000,399,12000,3000,1083,285,6000,3694,0,4000,0,6651,3000,4000,3000,11640,6000,5709,9000,12000,3018,5000,4000,6000,10943,0,7042,8490,4000,0,9000,4000,0,6000,4000,9019,0,0,0,7000,0,4759,722,10218,1169,11502,0,4000,9000,11000,4000,1285,4222,3000,3757,3000,0,8292,5755,7000,5358,0,4000,3000,4000,0,4000,4000,2492,4849,1967,5000,356,0,1665,3560,2969,0,3274,10000,0,0,2048,4000,11000,4423,152,8446,7992,0,5000,0,0,6000,4000,4000,0,8000,3000,7262,6000,9685,0,0,2000,5734,10000,13331,5129,5000,4967,0,15000,0,0,0,7257,8000,14262,3000,5000,5533,4208,14292,10413,3280,0,3000,8979,0,2978,0,4000,3000,5000,3000,0,5596,0,3000,6206,4000,6000,0],\"y\":[46,36,13,20,100,17,4,5,21,17,29,20,66,33,6,17,100,4,24,44,21,15,6,51,14,36,4,22,37,39,5,21,83,8,14,30,6,22,36,20,6,12,11,24,19,15,15,11,43,24,6,13,97,7,27,93,10,12,79,9,4,14,48,9,2,7,36,35,10,9,68,19,28,18,5,2,18,44,19,21,2,8,3,24,5,7,100,26,100,20,38,39,6,25,40,30,27,16,15,20,14,7,31,20,49,36,10,47,11,17,38,27,6,5,52,22,7,25,27,100,49,59,9,15,25,17,5,30,12,14,8,17,4,44,27,20,17,22,24,23,13,6,14,5,46,50,74,0,10,5,29,12,43,16,16,100,18,6,11,24,89,12,5,100,21,100,9,26,53,10,25,100,30,57,16,8,16,16,28,81,100,15,9,3,20,56,10,16,14,12,4,21,22,79,48,100,9,10,11,26,12,23,11,0,5,61,17,31,52,23,8,7,12,11,8,6,4,18,47,100,27,41,9,25,35,7,17,24,100,28,81,6,4,13,7,39,22,10,59,17,58,8,38,73,12,100,100,15,83,22,29,3,87,18,2,38,84,100,22,2,100,21,9,100,30,39,9,10,100,28,100,5,20,4,25,16,62,34,76,8,62,3,7,52,54,8,11,25,9,8,10,15,46,5,83,80,100,40,57,2,30,50,50,4,34,39,4,11,10,28,9,2,8,5,1,17,19,6,39,26,19,4,62,29,69,6,53,15,5,30,6,15,20,3,52,59,9,39,100,28,12,18,43,13,8,97,30,24,40,37,69,17,13,12,1,16,3,9,2,13,11,17,18,100,28,44,21,33,12,5,92,100,15,41,9,34,37,13,22,15,7,21,5,100,46,33,9,25,27,6,19,6,11,9,27,100,49,2,26,52,14,18,100,1,21,5,6,61,28,50,14,33,27,44,3,8,65,75,65,100,51,1,6,99,70,11,4,55,39,13,1,100,32,38,76,11,65,21,17,12,25,17,16,12,43,6,28,25,5,10,3,4,16,11,22,18,13,14,44,2,2,15,12,39,8,6,28,4,32,17,23,55,56,2,31,12,45,40,28,62,9,7,10,10,47,3,26,65,5,19,17,3,17,67,60,4,22,44,5,2,36,75,12,32,3,19,2,33,9,5,33,4,27,35,9,27,10,22,3,22,17,10,50,43,20,16,7,3,13,12,17,17,63,38,8,100,20,31,100,53,31,62,26,18,100,7,7,94,6,9,100,44,9,21,11,13,8,50,21,100,9,15,39,27,16,100,36,21,9,26,5,16,3,30,4,21,6,2,10,63,19,60,37,5,16,11,4,6,75,32,22,4,45,13,100,5,12,5,6,11,28,19,32,6,11,26,7,15,4,15,13,13,12,2,15,97,30,8,31,11,79,61,10,10,22,37,100,58,20,39,23,100,10,14,6,17,12,3,2,40,15,18,14,39,3,84,63,50,100,60,2,31,31,10,19,12,44,100,15,10,57,13,11,17,100,8,41,13,40,20,4,6,33,54,10,30,8,14,35,22,11,61,10,37,18,10,82,21,10,100,20,8,9,10,34,89,2,11,34,19,22,6,37,48,45,93,10,15,11,25,100,38,73,4,7,5,20,19,49,95,10,7,75,41,15,4,22,49,15,56,9,36,65,5,7,3,11,59,8,17,20,35,55,34,5,48,26,39,43,42,12,24,18,100,77,87,18,9,14,48,32,17,21,6,27,1,14,18,27,3,4,11,31,17,17,4,100,90,50,9,70,33,21,8,34,9,45,23,43,4,9,78,9,12,7,17,21,26,12,6,15,12,22,23,9,36,46,36,23,7,5,11,6,21,34,47,18,36,10,10,13,7,26,18,57,24,18,25,53,17,67,6,1,8,38,31,12,38,34,100,11,11,14,19,8,3,12,16,25,14,30,12,31,28,54,6,16,100,39,3,99,11,6,41,66,3,28,7,77,18,95,20,3,58,47,2,79,22,8,8,4,7,7,64,15,7,21,42,5,34,5,8,5,34,7,11,14,16,10,19,29,5,32,77,40,7,30,43,2,1,23,11,12,27,87,40,14,4,100,49,23,10,43,5,31,7,25,11,14,12,10,6,11,15,8,90,8,51,61,4,100,4,42,28,83,20,69,64,42,100,14,8,47,7,5,47,17,11,25,19,37,50,19,2,4,30,19,10,89,24,27,100,47,13,22,26,7,31,83,4,26,24,18,7,26,28,6,69,27,2,8,51,57,2,7,70,5,6,8,32,2,21,11,6,10,26,28,32,19,16,28,31,5,10,19,51,44,23,6,100,2,17,21,15,39,79,9,45,79,87,15,12,31,100,48,36,28,14,100,7,36,3,28,100,5,32,12,5,19,100,17,23,22,100,4,3,3,74,20,77,6,41,25,3,4,10,10,23,9,3,30,12,19,14,9,16,18,25,32,2,7,35,16,12,5,15,5,100,8,9,7,12,60,7,15,21,10,100,10,100,38,100,9,13,12,75,89,97,100,21,2,50,80,26,18,100,24,51,7,4,15,30,45,23,45,26,43,100,21,34,13,54,47,10,35,2,22,9,10,17,11,12,21,1,9,12,95,3,32,23,6,82,4,100,15,100,100,18,6,14,62,17,57,24,13,21,19,6,30,30,13,16,56,15,45,7,34,11,44,24,40,33,26,100,55,8,71,11,100,6,30,4,4,92,25,12,100,37,40,16,13,43,18,100,18,16,24,83,3,3,14,40,17,49,23,23,18,18,26,8,13,6,46,63,9,50,8,17,7,52,14,96,21,36,11,36,35,14,100,83,20,5,45,47,14,13,5,30,44,1,5,16,41,100,100,10,1,8,4,1,31,15,100,30,39,11,19,7,100,12,21,17,31,27,15,18,71,2,17,11,7,10,76,27,10,11,45,6,33,11,100,7,51,26,48,5,5,13,12,100,18,60,7,8,29,33,24,100,10,84,45,15,3,31,27,6,19,100,100,8,20,9,9,11,11,40,8,18,61,15,9,56,100,23,15,100,43,100,15,47,49,15,9,13,100,23,42,37,21,16,20,25,83,9,17,17,8,8,7,100,83,28,22,12,34,1,35,12,14,5,18,20,37,36,30,18,15,20,10,11,4,17,32,8,100,7,34,43,12,48,29,13,11,34,11,86,24,13,43,37,10,8,76,63,31,30,6,25,45,46,10,11,21,31,29,47,88,2,7,54,7,17,40,5,80,13,11,49,10,12,49,10,12,6,15,15,64,20,14,48,10,100,41,14,13,21,56,20,23,32,40,56,14,13,8,100,100,10,31,100,16,5,100,14,31,4,21,19,1,22,18,48,54,30,37,17,8,82,6,27,8,16,54,90,22,31,41,5,39,95,15,47,25,12,41,3,21,6,20,7,86,21,14,11,43,30,47,100,6,87,7,6,21,14,39,26,23,11,15,7,30,47,27,100,100,4,47,14,30,9,22,91,11,53,5,34,10,100,23,41,16,96,100,4,100,14,27,7,95,9,5,20,17,11,39,24,51,4,61,4,7,100,30,19,13,27,23,15,6,8,32,5,100,11,14,4,100,36,7,50,9,68,66,14,3,13,6,14,28,11,34,49,22,5,14,100,16,22,20,19,19,11,7,5,7,27,29,1,3,26,74,9,2,32,45,22,32,31,6,100,16,61,12,82,11,17,20,20,13,35,26,12,13,49,20,19,13,99,24,28,3,29,32,50,13,23,8,14,100,23,27,32,80,0,100,31,11,13,5,22,3,26,76,4,7,19,2,100,8,4,30,7,59,19,11,6,4,42,6,100,8,31,31,1,7,22,20,5,9,6,13,65,17,3,6,25,100,21,13,41,14,23,10,19,11,100,47,26,0,10,14,100,11,52,26,7,35,100,16,12,31,28,37,16,100,56,12,27,10,10,18,100,18,9,23,7,5,8,23,34,19,5,29,8,12,12,53,5,8,31,11,58,5,59,7,28,10,2,7,33,28,27,16,10,37,18,8,31,13,14,5,16,10,21,26,7,5,45,26,8,13,10,7,1,100,3,5,30,11,18,16,65,16,3,87,7,22,12,69,74,20,9,21,53,11,100,42,5,10,34,60,11,92,7,28,4,20,48,7,21,57,27,9,9,11,24,8,16,32,16,6,3,4,5,30,56,5,50,42,42,30,8,1,16,16,12,47,12,10,34,9,59,15,40,100,4,8,15,89,8,7,8,18,8,33,5,5,10,13,57,51,8,36,3,21,12,8,100,45,21,10,80,62,8,53,6,5,37,17,8,7,16,75,6,8,3,64,19,21,20,6,20,43,14,100,16,44,27,7,8,7,5,33,100,19,12,19,29,5,38,30,28,37,50,57,21,68,17,64,52,37,44,29,17,100,5,19,72,6,88,36,20,42,29,12,36,4,59,37,14,22,27,36,12,16,14,17,42,12,24,24,2,49,44,35,3,23]},\"selected\":{\"id\":\"3316\"},\"selection_policy\":{\"id\":\"3315\"}},\"id\":\"3176\",\"type\":\"ColumnDataSource\"},{\"attributes\":{},\"id\":\"3315\",\"type\":\"UnionRenderers\"},{\"attributes\":{},\"id\":\"3125\",\"type\":\"DataRange1d\"},{\"attributes\":{\"active_drag\":\"auto\",\"active_inspect\":\"auto\",\"active_multi\":null,\"active_scroll\":\"auto\",\"active_tap\":\"auto\",\"tools\":[{\"id\":\"3141\"},{\"id\":\"3142\"},{\"id\":\"3143\"},{\"id\":\"3144\"},{\"id\":\"3145\"},{\"id\":\"3146\"},{\"id\":\"3147\"},{\"id\":\"3148\"},{\"id\":\"3149\"},{\"id\":\"3150\"},{\"id\":\"3151\"},{\"id\":\"3152\"},{\"id\":\"3153\"},{\"id\":\"3154\"},{\"id\":\"3155\"}]},\"id\":\"3160\",\"type\":\"Toolbar\"},{\"attributes\":{\"overlay\":{\"id\":\"3158\"}},\"id\":\"3155\",\"type\":\"LassoSelectTool\"},{\"attributes\":{\"bottom_units\":\"screen\",\"fill_alpha\":0.5,\"fill_color\":\"lightgrey\",\"left_units\":\"screen\",\"level\":\"overlay\",\"line_alpha\":1.0,\"line_color\":\"black\",\"line_dash\":[4,4],\"line_width\":2,\"render_mode\":\"css\",\"right_units\":\"screen\",\"top_units\":\"screen\"},\"id\":\"3157\",\"type\":\"BoxAnnotation\"},{\"attributes\":{},\"id\":\"3127\",\"type\":\"DataRange1d\"},{\"attributes\":{},\"id\":\"3316\",\"type\":\"Selection\"},{\"attributes\":{\"fill_alpha\":0.5,\"fill_color\":\"lightgrey\",\"level\":\"overlay\",\"line_alpha\":1.0,\"line_color\":\"black\",\"line_dash\":[4,4],\"line_width\":2,\"xs_units\":\"screen\",\"ys_units\":\"screen\"},\"id\":\"3158\",\"type\":\"PolyAnnotation\"},{\"attributes\":{},\"id\":\"3129\",\"type\":\"LinearScale\"},{\"attributes\":{\"callback\":null},\"id\":\"3141\",\"type\":\"HoverTool\"},{\"attributes\":{\"fill_color\":{\"field\":\"fill_color\"},\"line_color\":{\"value\":\"#1f77b4\"},\"x\":{\"field\":\"x\"},\"y\":{\"field\":\"y\"}},\"id\":\"3177\",\"type\":\"Scatter\"},{\"attributes\":{},\"id\":\"3142\",\"type\":\"CrosshairTool\"},{\"attributes\":{},\"id\":\"3143\",\"type\":\"PanTool\"},{\"attributes\":{},\"id\":\"3131\",\"type\":\"LinearScale\"},{\"attributes\":{},\"id\":\"3144\",\"type\":\"WheelZoomTool\"},{\"attributes\":{\"fill_alpha\":0.5,\"fill_color\":\"lightgrey\",\"level\":\"overlay\",\"line_alpha\":1.0,\"line_color\":\"black\",\"line_dash\":[4,4],\"line_width\":2,\"xs_units\":\"screen\",\"ys_units\":\"screen\"},\"id\":\"3159\",\"type\":\"PolyAnnotation\"},{\"attributes\":{\"axis_label\":\"balance\",\"formatter\":{\"id\":\"3307\"},\"ticker\":{\"id\":\"3134\"}},\"id\":\"3133\",\"type\":\"LinearAxis\"},{\"attributes\":{\"overlay\":{\"id\":\"3157\"}},\"id\":\"3147\",\"type\":\"BoxZoomTool\"},{\"attributes\":{},\"id\":\"3145\",\"type\":\"ZoomInTool\"},{\"attributes\":{},\"id\":\"3138\",\"type\":\"BasicTicker\"},{\"attributes\":{},\"id\":\"3134\",\"type\":\"BasicTicker\"},{\"attributes\":{},\"id\":\"3150\",\"type\":\"ResetTool\"},{\"attributes\":{\"axis\":{\"id\":\"3133\"},\"ticker\":null},\"id\":\"3136\",\"type\":\"Grid\"},{\"attributes\":{},\"id\":\"3146\",\"type\":\"ZoomOutTool\"},{\"attributes\":{\"axis_label\":\"numTrans\",\"formatter\":{\"id\":\"3309\"},\"ticker\":{\"id\":\"3138\"}},\"id\":\"3137\",\"type\":\"LinearAxis\"}],\"root_ids\":[\"3124\"]},\"title\":\"Bokeh Application\",\"version\":\"2.0.2\"}};\n",
       "  var render_items = [{\"docid\":\"2debfee0-9047-4aa2-b367-3247d1737fde\",\"root_ids\":[\"3124\"],\"roots\":{\"3124\":\"6838dfa4-c17b-4002-906b-e0dfd9046a5e\"}}];\n",
       "  root.Bokeh.embed.embed_items_notebook(docs_json, render_items);\n",
       "\n",
       "  }\n",
       "  if (root.Bokeh !== undefined) {\n",
       "    embed_document(root);\n",
       "  } else {\n",
       "    var attempts = 0;\n",
       "    var timer = setInterval(function(root) {\n",
       "      if (root.Bokeh !== undefined) {\n",
       "        clearInterval(timer);\n",
       "        embed_document(root);\n",
       "      } else {\n",
       "        attempts++;\n",
       "        if (attempts > 100) {\n",
       "          clearInterval(timer);\n",
       "          console.log(\"Bokeh: ERROR: Unable to run BokehJS code because BokehJS library is missing\");\n",
       "        }\n",
       "      }\n",
       "    }, 10, root)\n",
       "  }\n",
       "})(window);"
      ],
      "application/vnd.bokehjs_exec.v0+json": ""
     },
     "metadata": {
      "application/vnd.bokehjs_exec.v0+json": {
       "id": "3124"
      }
     },
     "output_type": "display_data"
    }
   ],
   "source": [
    "TOOLS = \"hover,crosshair,pan,wheel_zoom,zoom_in,zoom_out,box_zoom,undo,redo,reset,tap,save,box_select,poly_select,lasso_select,\"\n",
    "\n",
    "p = bokeh.plotting.figure(tools=TOOLS)\n",
    "\n",
    "scaled_balance = [ int(256 * c / max(data_multi['balance']) ) for c in data_multi['balance'] ]\n",
    "\n",
    "colors = [\n",
    "    \"#%02x%02x%02x\" % (c, 256 - c, 15) for c in scaled_balance\n",
    "]\n",
    "\n",
    "p.scatter(data_multi['balance'], data_multi['numTrans'], fill_color=colors)\n",
    "\n",
    "p.xaxis.axis_label = 'balance'\n",
    "p.yaxis.axis_label = 'numTrans'\n",
    "\n",
    "# bokeh.io.output_file(\"z_color_scatter.html\", title=\"color_scatter.py example\")\n",
    "\n",
    "bokeh.io.show(p)  # open a browser\n"
   ]
  },
  {
   "cell_type": "markdown",
   "metadata": {},
   "source": [
    "## Chapter's Summary\n",
    "\n",
    "Exploratory data analysis in pyspark\n",
    "+ duplicates, missing observations and outliers\n",
    "   + exact, non-id duplicates, id duplicates\n",
    "   + count\n",
    "   + drop duplicates\n",
    "   + agg\n",
    "   + functions\n",
    "   + counts\n",
    "   + count distinct\n",
    "   + alias\n",
    "+ Missin observations\n",
    "  + where\n",
    "  + select\n",
    "  + dropna\n",
    "  + fillna\n",
    "+ outliers\n",
    "  + create bounds and filter outliers\n",
    "  + approx quartile\n",
    "  + join\n",
    "  + select\n",
    "+ Exploer your data\n",
    "  + first\n",
    "  + groupby\n",
    "  + describe\n",
    "  + aggregate functions\n",
    "  + correlations\n",
    "+ Visualisation\n",
    "  + histogram\n",
    "  + interactions between features"
   ]
  }
 ],
 "metadata": {
  "kernelspec": {
   "display_name": "Python 3.7.5 64-bit ('venv': virtualenv)",
   "language": "python",
   "name": "python37564bitvenvvirtualenv746bf185f140465ab8609cf377657fb8"
  },
  "language_info": {
   "codemirror_mode": {
    "name": "ipython",
    "version": 3
   },
   "file_extension": ".py",
   "mimetype": "text/x-python",
   "name": "python",
   "nbconvert_exporter": "python",
   "pygments_lexer": "ipython3",
   "version": "3.7.5"
  }
 },
 "nbformat": 4,
 "nbformat_minor": 1
}
